{
  "cells": [
    {
      "cell_type": "markdown",
      "metadata": {
        "id": "view-in-github",
        "colab_type": "text"
      },
      "source": [
        "<a href=\"https://colab.research.google.com/github/sidhant1304/CommunityClassroom-Git/blob/master/Sidhant_Rai_Home_Loan_Prediction.ipynb\" target=\"_parent\"><img src=\"https://colab.research.google.com/assets/colab-badge.svg\" alt=\"Open In Colab\"/></a>"
      ]
    },
    {
      "cell_type": "markdown",
      "metadata": {
        "id": "DbbTS5I2Mgud"
      },
      "source": [
        "# Home Loan Prediction\n",
        "This dataset `full_home_loans.csv` is about home loan applications in Washington state, USA, where each row of the dataset is an individual loan application. Your goal in this assignment is to build a machine learning model that can accurately predict whether a given loan application was accepted or rejected.\n",
        "\n",
        "\n",
        "## Part 1: Data Exploration\n",
        "The first few exercises will get you used to looking at the data using `pandas`. Pandas is a widely used library in python for manipulating data. Why? Datasets can consume a _lot_ of space in your computer's memory and traditional python data structures like lists or dictionaries will become painfully slow as we add thousands of rows of data. We use a specialized dataset library `pandas` which has a specialized data structure called a `dataframe` designed to be ultra fast & efficient. Documentation is here: https://pandas.pydata.org/pandas-docs/stable/"
      ]
    },
    {
      "cell_type": "code",
      "execution_count": null,
      "metadata": {
        "colab": {
          "base_uri": "https://localhost:8080/"
        },
        "id": "3eNACsnhv9_l",
        "outputId": "1e42e1f3-9cba-411b-d5c2-db62fd8d0241"
      },
      "outputs": [
        {
          "output_type": "stream",
          "name": "stdout",
          "text": [
            "Drive already mounted at /content/drive; to attempt to forcibly remount, call drive.mount(\"/content/drive\", force_remount=True).\n"
          ]
        }
      ],
      "source": [
        "from google.colab import drive\n",
        "drive.mount('/content/drive')"
      ]
    },
    {
      "cell_type": "code",
      "execution_count": null,
      "metadata": {
        "id": "r1ufE7MNxD4w"
      },
      "outputs": [],
      "source": []
    },
    {
      "cell_type": "code",
      "execution_count": null,
      "metadata": {
        "id": "GxNaThDJMguf"
      },
      "outputs": [],
      "source": [
        "import pandas as pd # import pandas library\n",
        "\n",
        "path = '/content/drive/MyDrive/HAII Assignments /home_loans.csv'\n",
        "\n",
        "\n",
        "df = pd.read_csv(path, low_memory=False) # read the csv file into a pandas dataframe object"
      ]
    },
    {
      "cell_type": "markdown",
      "metadata": {
        "id": "678ovL90Mgug"
      },
      "source": [
        "To understand what kind of data was collected, `pandas` has some handy commands:\n",
        "\n",
        "- `df.head()` will show us the first 5 rows of our dataset. You can also specify the first N rows, like `df.head(18)` will show us the first 18 rows.\n",
        "- `df.sample(10)` will show us 10 randomly sampled rows of our dataset\n",
        "- `df.shape` will tell us how many rows and how many columns are in the dataset\n",
        "- `df.columns` will list the names of all columns in the dataset\n",
        "- `df.describe()` will give you summary statistics about all numerical columns in the dataset\n",
        "\n",
        "### Question 1.A:  How many rows are in this dataset? How many columns?"
      ]
    },
    {
      "cell_type": "markdown",
      "metadata": {
        "id": "XLeQII_VMgug"
      },
      "source": [
        "There are 369281 row and 27 columns"
      ]
    },
    {
      "cell_type": "code",
      "execution_count": null,
      "metadata": {
        "colab": {
          "base_uri": "https://localhost:8080/"
        },
        "id": "etoEHQnPMguh",
        "outputId": "0755e196-0706-4a21-9106-f11f28363a59"
      },
      "outputs": [
        {
          "output_type": "execute_result",
          "data": {
            "text/plain": [
              "(369281, 27)"
            ]
          },
          "metadata": {},
          "execution_count": 40
        }
      ],
      "source": [
        "df.shape"
      ]
    },
    {
      "cell_type": "markdown",
      "metadata": {
        "id": "ZPgFJrW2Mguh"
      },
      "source": [
        "### Question 1.B: One of the columns in the dataset is the outcome value for each application, the value we will try to predict. Which column is that?"
      ]
    },
    {
      "cell_type": "markdown",
      "metadata": {
        "id": "5uba8GZgMguh"
      },
      "source": [
        "It is the 'loan_approved' column"
      ]
    },
    {
      "cell_type": "code",
      "execution_count": null,
      "metadata": {
        "colab": {
          "base_uri": "https://localhost:8080/"
        },
        "id": "439GaJPWMguh",
        "outputId": "eb94c04f-1937-4ab6-e6b8-2567659f71d8"
      },
      "outputs": [
        {
          "output_type": "execute_result",
          "data": {
            "text/plain": [
              "Index(['town_name', 'county_name', 'loan_amount_000s', 'applicant_income_000s',\n",
              "       'property_type_name', 'occupied_by_owner', 'loan_type_name',\n",
              "       'is_hoepa_loan', 'loan_purpose_name', 'loan_approved',\n",
              "       'denial_reason_name_3', 'denial_reason_name_2', 'denial_reason_name_1',\n",
              "       'co_applicant_sex_name', 'co_applicant_race_name_5',\n",
              "       'co_applicant_race_name_4', 'co_applicant_race_name_3',\n",
              "       'co_applicant_race_name_2', 'co_applicant_race_name_1',\n",
              "       'co_applicant_ethnicity_name', 'applicant_sex_name',\n",
              "       'applicant_race_name_5', 'applicant_race_name_4',\n",
              "       'applicant_race_name_3', 'applicant_race_name_2',\n",
              "       'applicant_race_name_1', 'applicant_ethnicity_name'],\n",
              "      dtype='object')"
            ]
          },
          "metadata": {},
          "execution_count": 41
        }
      ],
      "source": [
        "df.columns"
      ]
    },
    {
      "cell_type": "code",
      "execution_count": null,
      "metadata": {
        "colab": {
          "base_uri": "https://localhost:8080/"
        },
        "id": "4FfcuIETzJCj",
        "outputId": "e4d0a32e-72a7-4f8e-cff4-7b9a1710bc43"
      },
      "outputs": [
        {
          "output_type": "stream",
          "name": "stdout",
          "text": [
            "[1 0]\n"
          ]
        }
      ],
      "source": [
        "loan_approved_unique_values = df['loan_approved'].unique()\n",
        "\n",
        "print(loan_approved_unique_values)"
      ]
    },
    {
      "cell_type": "markdown",
      "metadata": {
        "id": "tLsbGVOfMguh"
      },
      "source": [
        "### Question 1.C: What reasons were given in this dataset for denying a loan application?\n",
        "Hint: There are 3 columns in the dataset that list why a loan was denied. Try looking up the pandas command to list the unique values in a column."
      ]
    },
    {
      "cell_type": "markdown",
      "metadata": {
        "id": "xh9kJaDCMgui"
      },
      "source": [
        "\n",
        "\n",
        "1.   Other\n",
        "2.   Credit application incompleteOtherCredit history\n",
        "1.   Collateral\n",
        "1.   Insufficient cash (downpayment, closing costs)\n",
        "2.   Credit application incomplete\n",
        "1.   Debt-to-income ratio\n",
        "6.   Employment history\n",
        "7.   Credit history   \n",
        "9.   Unverifiable information\n",
        "10.   Mortgage insurance denied\n",
        "\n",
        "\n",
        "\n",
        "\n",
        "\n",
        "\n"
      ]
    },
    {
      "cell_type": "code",
      "execution_count": null,
      "metadata": {
        "colab": {
          "base_uri": "https://localhost:8080/"
        },
        "id": "hoT0MvudMgui",
        "outputId": "716ca076-acdf-4c5c-c621-c5c7f94c280b"
      },
      "outputs": [
        {
          "output_type": "stream",
          "name": "stdout",
          "text": [
            "['Employment history', 'Collateral', 'Debt-to-income ratio', 'Insufficient cash (downpayment, closing costs)', 'Credit history', 'Credit application incomplete', 'Mortgage insurance denied', 'Unverifiable information', 'Other']\n"
          ]
        }
      ],
      "source": [
        "denial_reason_name_01 = df['denial_reason_name_1'].dropna().unique()\n",
        "\n",
        "denial_reason_name_02 = df['denial_reason_name_2'].dropna().unique()\n",
        "\n",
        "denial_reason_name_03 = df['denial_reason_name_3'].dropna().unique()\n",
        "\n",
        "# Appending the lists together\n",
        "denial_reason_list = list(set(denial_reason_name_01)) + list(set(denial_reason_name_02)) + list(set(denial_reason_name_03))\n",
        "\n",
        "\n",
        "# Print the result\n",
        "print(list(set(denial_reason_list)))\n",
        "\n"
      ]
    },
    {
      "cell_type": "markdown",
      "metadata": {
        "id": "vlz9fFv9Mgui"
      },
      "source": [
        "### Question 1.D: Given the denial reasons and the columns in this dataset, think about what information you _don't_ have about each application. Rank your top 3 _missing_ pieces of information about each application that could help you better predict the application's loan outcome."
      ]
    },
    {
      "cell_type": "markdown",
      "metadata": {
        "id": "6GLbJXdkMgui"
      },
      "source": [
        "_Double click to write your answer question here. Show your work in code below if applicable._\n",
        "\n",
        "#1.Borrowers Credit score  \n",
        "#2.Valuation of Property  \n",
        "#3.Co-Borrowers Credit Score"
      ]
    },
    {
      "cell_type": "code",
      "execution_count": null,
      "metadata": {
        "colab": {
          "base_uri": "https://localhost:8080/",
          "height": 481
        },
        "id": "T6vO-XEuMgui",
        "outputId": "4fb6bc07-9596-4af6-daba-3c5ed899b9c4"
      },
      "outputs": [
        {
          "output_type": "execute_result",
          "data": {
            "text/plain": [
              "                                 town_name         county_name  \\\n",
              "0  Portland, Vancouver, Hillsboro - OR, WA        Clark County   \n",
              "1                         Walla Walla - WA  Walla Walla County   \n",
              "2  Portland, Vancouver, Hillsboro - OR, WA        Clark County   \n",
              "3  Portland, Vancouver, Hillsboro - OR, WA        Clark County   \n",
              "4               Bremerton, Silverdale - WA       Kitsap County   \n",
              "\n",
              "   loan_amount_000s  applicant_income_000s  \\\n",
              "0               227                  116.0   \n",
              "1               240                   42.0   \n",
              "2               241                  117.0   \n",
              "3               351                  315.0   \n",
              "4               417                  114.0   \n",
              "\n",
              "                                  property_type_name  occupied_by_owner  \\\n",
              "0  One-to-four family dwelling (other than manufa...                  1   \n",
              "1  One-to-four family dwelling (other than manufa...                  1   \n",
              "2  One-to-four family dwelling (other than manufa...                  1   \n",
              "3  One-to-four family dwelling (other than manufa...                  1   \n",
              "4  One-to-four family dwelling (other than manufa...                  1   \n",
              "\n",
              "  loan_type_name  is_hoepa_loan loan_purpose_name  loan_approved  ...  \\\n",
              "0   Conventional              0       Refinancing              1  ...   \n",
              "1    FHA-insured              0     Home purchase              1  ...   \n",
              "2   Conventional              0       Refinancing              1  ...   \n",
              "3   Conventional              0       Refinancing              1  ...   \n",
              "4   Conventional              0  Home improvement              1  ...   \n",
              "\n",
              "  co_applicant_race_name_2                           co_applicant_race_name_1  \\\n",
              "0                      NaN  Information not provided by applicant in mail,...   \n",
              "1                      NaN                                    No co-applicant   \n",
              "2                      NaN                                              White   \n",
              "3                      NaN  Information not provided by applicant in mail,...   \n",
              "4                      NaN                                              White   \n",
              "\n",
              "                         co_applicant_ethnicity_name applicant_sex_name  \\\n",
              "0                             Not Hispanic or Latino             Female   \n",
              "1                                    No co-applicant               Male   \n",
              "2                             Not Hispanic or Latino               Male   \n",
              "3  Information not provided by applicant in mail,...               Male   \n",
              "4                             Not Hispanic or Latino             Female   \n",
              "\n",
              "  applicant_race_name_5 applicant_race_name_4 applicant_race_name_3  \\\n",
              "0                   NaN                   NaN                   NaN   \n",
              "1                   NaN                   NaN                   NaN   \n",
              "2                   NaN                   NaN                   NaN   \n",
              "3                   NaN                   NaN                   NaN   \n",
              "4                   NaN                   NaN                   NaN   \n",
              "\n",
              "  applicant_race_name_2                              applicant_race_name_1  \\\n",
              "0                   NaN  Information not provided by applicant in mail,...   \n",
              "1                   NaN                                              White   \n",
              "2                   NaN                                              White   \n",
              "3                   NaN  Information not provided by applicant in mail,...   \n",
              "4                   NaN                                              White   \n",
              "\n",
              "                            applicant_ethnicity_name  \n",
              "0                             Not Hispanic or Latino  \n",
              "1                                 Hispanic or Latino  \n",
              "2                             Not Hispanic or Latino  \n",
              "3  Information not provided by applicant in mail,...  \n",
              "4                             Not Hispanic or Latino  \n",
              "\n",
              "[5 rows x 27 columns]"
            ],
            "text/html": [
              "\n",
              "  <div id=\"df-6d645b0e-f2f9-46f6-8f38-c590458d250e\" class=\"colab-df-container\">\n",
              "    <div>\n",
              "<style scoped>\n",
              "    .dataframe tbody tr th:only-of-type {\n",
              "        vertical-align: middle;\n",
              "    }\n",
              "\n",
              "    .dataframe tbody tr th {\n",
              "        vertical-align: top;\n",
              "    }\n",
              "\n",
              "    .dataframe thead th {\n",
              "        text-align: right;\n",
              "    }\n",
              "</style>\n",
              "<table border=\"1\" class=\"dataframe\">\n",
              "  <thead>\n",
              "    <tr style=\"text-align: right;\">\n",
              "      <th></th>\n",
              "      <th>town_name</th>\n",
              "      <th>county_name</th>\n",
              "      <th>loan_amount_000s</th>\n",
              "      <th>applicant_income_000s</th>\n",
              "      <th>property_type_name</th>\n",
              "      <th>occupied_by_owner</th>\n",
              "      <th>loan_type_name</th>\n",
              "      <th>is_hoepa_loan</th>\n",
              "      <th>loan_purpose_name</th>\n",
              "      <th>loan_approved</th>\n",
              "      <th>...</th>\n",
              "      <th>co_applicant_race_name_2</th>\n",
              "      <th>co_applicant_race_name_1</th>\n",
              "      <th>co_applicant_ethnicity_name</th>\n",
              "      <th>applicant_sex_name</th>\n",
              "      <th>applicant_race_name_5</th>\n",
              "      <th>applicant_race_name_4</th>\n",
              "      <th>applicant_race_name_3</th>\n",
              "      <th>applicant_race_name_2</th>\n",
              "      <th>applicant_race_name_1</th>\n",
              "      <th>applicant_ethnicity_name</th>\n",
              "    </tr>\n",
              "  </thead>\n",
              "  <tbody>\n",
              "    <tr>\n",
              "      <th>0</th>\n",
              "      <td>Portland, Vancouver, Hillsboro - OR, WA</td>\n",
              "      <td>Clark County</td>\n",
              "      <td>227</td>\n",
              "      <td>116.0</td>\n",
              "      <td>One-to-four family dwelling (other than manufa...</td>\n",
              "      <td>1</td>\n",
              "      <td>Conventional</td>\n",
              "      <td>0</td>\n",
              "      <td>Refinancing</td>\n",
              "      <td>1</td>\n",
              "      <td>...</td>\n",
              "      <td>NaN</td>\n",
              "      <td>Information not provided by applicant in mail,...</td>\n",
              "      <td>Not Hispanic or Latino</td>\n",
              "      <td>Female</td>\n",
              "      <td>NaN</td>\n",
              "      <td>NaN</td>\n",
              "      <td>NaN</td>\n",
              "      <td>NaN</td>\n",
              "      <td>Information not provided by applicant in mail,...</td>\n",
              "      <td>Not Hispanic or Latino</td>\n",
              "    </tr>\n",
              "    <tr>\n",
              "      <th>1</th>\n",
              "      <td>Walla Walla - WA</td>\n",
              "      <td>Walla Walla County</td>\n",
              "      <td>240</td>\n",
              "      <td>42.0</td>\n",
              "      <td>One-to-four family dwelling (other than manufa...</td>\n",
              "      <td>1</td>\n",
              "      <td>FHA-insured</td>\n",
              "      <td>0</td>\n",
              "      <td>Home purchase</td>\n",
              "      <td>1</td>\n",
              "      <td>...</td>\n",
              "      <td>NaN</td>\n",
              "      <td>No co-applicant</td>\n",
              "      <td>No co-applicant</td>\n",
              "      <td>Male</td>\n",
              "      <td>NaN</td>\n",
              "      <td>NaN</td>\n",
              "      <td>NaN</td>\n",
              "      <td>NaN</td>\n",
              "      <td>White</td>\n",
              "      <td>Hispanic or Latino</td>\n",
              "    </tr>\n",
              "    <tr>\n",
              "      <th>2</th>\n",
              "      <td>Portland, Vancouver, Hillsboro - OR, WA</td>\n",
              "      <td>Clark County</td>\n",
              "      <td>241</td>\n",
              "      <td>117.0</td>\n",
              "      <td>One-to-four family dwelling (other than manufa...</td>\n",
              "      <td>1</td>\n",
              "      <td>Conventional</td>\n",
              "      <td>0</td>\n",
              "      <td>Refinancing</td>\n",
              "      <td>1</td>\n",
              "      <td>...</td>\n",
              "      <td>NaN</td>\n",
              "      <td>White</td>\n",
              "      <td>Not Hispanic or Latino</td>\n",
              "      <td>Male</td>\n",
              "      <td>NaN</td>\n",
              "      <td>NaN</td>\n",
              "      <td>NaN</td>\n",
              "      <td>NaN</td>\n",
              "      <td>White</td>\n",
              "      <td>Not Hispanic or Latino</td>\n",
              "    </tr>\n",
              "    <tr>\n",
              "      <th>3</th>\n",
              "      <td>Portland, Vancouver, Hillsboro - OR, WA</td>\n",
              "      <td>Clark County</td>\n",
              "      <td>351</td>\n",
              "      <td>315.0</td>\n",
              "      <td>One-to-four family dwelling (other than manufa...</td>\n",
              "      <td>1</td>\n",
              "      <td>Conventional</td>\n",
              "      <td>0</td>\n",
              "      <td>Refinancing</td>\n",
              "      <td>1</td>\n",
              "      <td>...</td>\n",
              "      <td>NaN</td>\n",
              "      <td>Information not provided by applicant in mail,...</td>\n",
              "      <td>Information not provided by applicant in mail,...</td>\n",
              "      <td>Male</td>\n",
              "      <td>NaN</td>\n",
              "      <td>NaN</td>\n",
              "      <td>NaN</td>\n",
              "      <td>NaN</td>\n",
              "      <td>Information not provided by applicant in mail,...</td>\n",
              "      <td>Information not provided by applicant in mail,...</td>\n",
              "    </tr>\n",
              "    <tr>\n",
              "      <th>4</th>\n",
              "      <td>Bremerton, Silverdale - WA</td>\n",
              "      <td>Kitsap County</td>\n",
              "      <td>417</td>\n",
              "      <td>114.0</td>\n",
              "      <td>One-to-four family dwelling (other than manufa...</td>\n",
              "      <td>1</td>\n",
              "      <td>Conventional</td>\n",
              "      <td>0</td>\n",
              "      <td>Home improvement</td>\n",
              "      <td>1</td>\n",
              "      <td>...</td>\n",
              "      <td>NaN</td>\n",
              "      <td>White</td>\n",
              "      <td>Not Hispanic or Latino</td>\n",
              "      <td>Female</td>\n",
              "      <td>NaN</td>\n",
              "      <td>NaN</td>\n",
              "      <td>NaN</td>\n",
              "      <td>NaN</td>\n",
              "      <td>White</td>\n",
              "      <td>Not Hispanic or Latino</td>\n",
              "    </tr>\n",
              "  </tbody>\n",
              "</table>\n",
              "<p>5 rows × 27 columns</p>\n",
              "</div>\n",
              "    <div class=\"colab-df-buttons\">\n",
              "\n",
              "  <div class=\"colab-df-container\">\n",
              "    <button class=\"colab-df-convert\" onclick=\"convertToInteractive('df-6d645b0e-f2f9-46f6-8f38-c590458d250e')\"\n",
              "            title=\"Convert this dataframe to an interactive table.\"\n",
              "            style=\"display:none;\">\n",
              "\n",
              "  <svg xmlns=\"http://www.w3.org/2000/svg\" height=\"24px\" viewBox=\"0 -960 960 960\">\n",
              "    <path d=\"M120-120v-720h720v720H120Zm60-500h600v-160H180v160Zm220 220h160v-160H400v160Zm0 220h160v-160H400v160ZM180-400h160v-160H180v160Zm440 0h160v-160H620v160ZM180-180h160v-160H180v160Zm440 0h160v-160H620v160Z\"/>\n",
              "  </svg>\n",
              "    </button>\n",
              "\n",
              "  <style>\n",
              "    .colab-df-container {\n",
              "      display:flex;\n",
              "      gap: 12px;\n",
              "    }\n",
              "\n",
              "    .colab-df-convert {\n",
              "      background-color: #E8F0FE;\n",
              "      border: none;\n",
              "      border-radius: 50%;\n",
              "      cursor: pointer;\n",
              "      display: none;\n",
              "      fill: #1967D2;\n",
              "      height: 32px;\n",
              "      padding: 0 0 0 0;\n",
              "      width: 32px;\n",
              "    }\n",
              "\n",
              "    .colab-df-convert:hover {\n",
              "      background-color: #E2EBFA;\n",
              "      box-shadow: 0px 1px 2px rgba(60, 64, 67, 0.3), 0px 1px 3px 1px rgba(60, 64, 67, 0.15);\n",
              "      fill: #174EA6;\n",
              "    }\n",
              "\n",
              "    .colab-df-buttons div {\n",
              "      margin-bottom: 4px;\n",
              "    }\n",
              "\n",
              "    [theme=dark] .colab-df-convert {\n",
              "      background-color: #3B4455;\n",
              "      fill: #D2E3FC;\n",
              "    }\n",
              "\n",
              "    [theme=dark] .colab-df-convert:hover {\n",
              "      background-color: #434B5C;\n",
              "      box-shadow: 0px 1px 3px 1px rgba(0, 0, 0, 0.15);\n",
              "      filter: drop-shadow(0px 1px 2px rgba(0, 0, 0, 0.3));\n",
              "      fill: #FFFFFF;\n",
              "    }\n",
              "  </style>\n",
              "\n",
              "    <script>\n",
              "      const buttonEl =\n",
              "        document.querySelector('#df-6d645b0e-f2f9-46f6-8f38-c590458d250e button.colab-df-convert');\n",
              "      buttonEl.style.display =\n",
              "        google.colab.kernel.accessAllowed ? 'block' : 'none';\n",
              "\n",
              "      async function convertToInteractive(key) {\n",
              "        const element = document.querySelector('#df-6d645b0e-f2f9-46f6-8f38-c590458d250e');\n",
              "        const dataTable =\n",
              "          await google.colab.kernel.invokeFunction('convertToInteractive',\n",
              "                                                    [key], {});\n",
              "        if (!dataTable) return;\n",
              "\n",
              "        const docLinkHtml = 'Like what you see? Visit the ' +\n",
              "          '<a target=\"_blank\" href=https://colab.research.google.com/notebooks/data_table.ipynb>data table notebook</a>'\n",
              "          + ' to learn more about interactive tables.';\n",
              "        element.innerHTML = '';\n",
              "        dataTable['output_type'] = 'display_data';\n",
              "        await google.colab.output.renderOutput(dataTable, element);\n",
              "        const docLink = document.createElement('div');\n",
              "        docLink.innerHTML = docLinkHtml;\n",
              "        element.appendChild(docLink);\n",
              "      }\n",
              "    </script>\n",
              "  </div>\n",
              "\n",
              "\n",
              "<div id=\"df-4c973234-4777-44bd-8abc-1b6c0be5b74e\">\n",
              "  <button class=\"colab-df-quickchart\" onclick=\"quickchart('df-4c973234-4777-44bd-8abc-1b6c0be5b74e')\"\n",
              "            title=\"Suggest charts.\"\n",
              "            style=\"display:none;\">\n",
              "\n",
              "<svg xmlns=\"http://www.w3.org/2000/svg\" height=\"24px\"viewBox=\"0 0 24 24\"\n",
              "     width=\"24px\">\n",
              "    <g>\n",
              "        <path d=\"M19 3H5c-1.1 0-2 .9-2 2v14c0 1.1.9 2 2 2h14c1.1 0 2-.9 2-2V5c0-1.1-.9-2-2-2zM9 17H7v-7h2v7zm4 0h-2V7h2v10zm4 0h-2v-4h2v4z\"/>\n",
              "    </g>\n",
              "</svg>\n",
              "  </button>\n",
              "\n",
              "<style>\n",
              "  .colab-df-quickchart {\n",
              "      --bg-color: #E8F0FE;\n",
              "      --fill-color: #1967D2;\n",
              "      --hover-bg-color: #E2EBFA;\n",
              "      --hover-fill-color: #174EA6;\n",
              "      --disabled-fill-color: #AAA;\n",
              "      --disabled-bg-color: #DDD;\n",
              "  }\n",
              "\n",
              "  [theme=dark] .colab-df-quickchart {\n",
              "      --bg-color: #3B4455;\n",
              "      --fill-color: #D2E3FC;\n",
              "      --hover-bg-color: #434B5C;\n",
              "      --hover-fill-color: #FFFFFF;\n",
              "      --disabled-bg-color: #3B4455;\n",
              "      --disabled-fill-color: #666;\n",
              "  }\n",
              "\n",
              "  .colab-df-quickchart {\n",
              "    background-color: var(--bg-color);\n",
              "    border: none;\n",
              "    border-radius: 50%;\n",
              "    cursor: pointer;\n",
              "    display: none;\n",
              "    fill: var(--fill-color);\n",
              "    height: 32px;\n",
              "    padding: 0;\n",
              "    width: 32px;\n",
              "  }\n",
              "\n",
              "  .colab-df-quickchart:hover {\n",
              "    background-color: var(--hover-bg-color);\n",
              "    box-shadow: 0 1px 2px rgba(60, 64, 67, 0.3), 0 1px 3px 1px rgba(60, 64, 67, 0.15);\n",
              "    fill: var(--button-hover-fill-color);\n",
              "  }\n",
              "\n",
              "  .colab-df-quickchart-complete:disabled,\n",
              "  .colab-df-quickchart-complete:disabled:hover {\n",
              "    background-color: var(--disabled-bg-color);\n",
              "    fill: var(--disabled-fill-color);\n",
              "    box-shadow: none;\n",
              "  }\n",
              "\n",
              "  .colab-df-spinner {\n",
              "    border: 2px solid var(--fill-color);\n",
              "    border-color: transparent;\n",
              "    border-bottom-color: var(--fill-color);\n",
              "    animation:\n",
              "      spin 1s steps(1) infinite;\n",
              "  }\n",
              "\n",
              "  @keyframes spin {\n",
              "    0% {\n",
              "      border-color: transparent;\n",
              "      border-bottom-color: var(--fill-color);\n",
              "      border-left-color: var(--fill-color);\n",
              "    }\n",
              "    20% {\n",
              "      border-color: transparent;\n",
              "      border-left-color: var(--fill-color);\n",
              "      border-top-color: var(--fill-color);\n",
              "    }\n",
              "    30% {\n",
              "      border-color: transparent;\n",
              "      border-left-color: var(--fill-color);\n",
              "      border-top-color: var(--fill-color);\n",
              "      border-right-color: var(--fill-color);\n",
              "    }\n",
              "    40% {\n",
              "      border-color: transparent;\n",
              "      border-right-color: var(--fill-color);\n",
              "      border-top-color: var(--fill-color);\n",
              "    }\n",
              "    60% {\n",
              "      border-color: transparent;\n",
              "      border-right-color: var(--fill-color);\n",
              "    }\n",
              "    80% {\n",
              "      border-color: transparent;\n",
              "      border-right-color: var(--fill-color);\n",
              "      border-bottom-color: var(--fill-color);\n",
              "    }\n",
              "    90% {\n",
              "      border-color: transparent;\n",
              "      border-bottom-color: var(--fill-color);\n",
              "    }\n",
              "  }\n",
              "</style>\n",
              "\n",
              "  <script>\n",
              "    async function quickchart(key) {\n",
              "      const quickchartButtonEl =\n",
              "        document.querySelector('#' + key + ' button');\n",
              "      quickchartButtonEl.disabled = true;  // To prevent multiple clicks.\n",
              "      quickchartButtonEl.classList.add('colab-df-spinner');\n",
              "      try {\n",
              "        const charts = await google.colab.kernel.invokeFunction(\n",
              "            'suggestCharts', [key], {});\n",
              "      } catch (error) {\n",
              "        console.error('Error during call to suggestCharts:', error);\n",
              "      }\n",
              "      quickchartButtonEl.classList.remove('colab-df-spinner');\n",
              "      quickchartButtonEl.classList.add('colab-df-quickchart-complete');\n",
              "    }\n",
              "    (() => {\n",
              "      let quickchartButtonEl =\n",
              "        document.querySelector('#df-4c973234-4777-44bd-8abc-1b6c0be5b74e button');\n",
              "      quickchartButtonEl.style.display =\n",
              "        google.colab.kernel.accessAllowed ? 'block' : 'none';\n",
              "    })();\n",
              "  </script>\n",
              "</div>\n",
              "    </div>\n",
              "  </div>\n"
            ]
          },
          "metadata": {},
          "execution_count": 44
        }
      ],
      "source": [
        "df.head()"
      ]
    },
    {
      "cell_type": "markdown",
      "metadata": {
        "id": "BpoBbpu7Mgui"
      },
      "source": [
        "## Part 2: Preparing Data to Input to a Model\n",
        "Here we'll start using `scikit-learn` which provides simple library calls for most things we'd like to do in a simple machine learning pipeline. If you haven't used `scikit-learn` before this tutorial may be useful to give you a sense of what the library can do: https://scikit-learn.org/stable/tutorial/basic/tutorial.html\n",
        "\n",
        "Many machine learning models can only understand data that is represented numerically, but lots of the columns in our dataset like \"town_name\" are text _categorical_ data. Meanwhile, many models do better when continuous numerical data is within small, consistent ranges, such as all data being between -1, 0 and 1, which is definitely not the case with our thousands of dollars loan units.\n",
        "\n",
        "So first, we will separate our samples (called _X_) into features we'd like to include in our model that are categorical or continuous so that we can preprocess each appropriately separately."
      ]
    },
    {
      "cell_type": "code",
      "execution_count": null,
      "metadata": {
        "id": "YEljRItfMguj"
      },
      "outputs": [],
      "source": [
        "import sklearn # import scikit-learn\n",
        "from sklearn import preprocessing # import preprocessing utilites\n",
        "\n",
        "features_cat = ['loan_purpose_name', 'applicant_sex_name']\n",
        "features_num = ['loan_amount_000s', 'applicant_income_000s']\n",
        "\n",
        "X_cat = df[features_cat]\n",
        "X_num = df[features_num]"
      ]
    },
    {
      "cell_type": "markdown",
      "metadata": {
        "id": "FeDXop0bMguj"
      },
      "source": [
        "### Part 2.A One Hot Encode Categorical Variables\n",
        "Run the following code to one hot encode the categorical features:"
      ]
    },
    {
      "cell_type": "code",
      "execution_count": null,
      "metadata": {
        "id": "wrbSbRK8Mguj"
      },
      "outputs": [],
      "source": [
        "enc = preprocessing.OneHotEncoder()\n",
        "enc.fit(X_cat) # fit the encoder to categories in our data\n",
        "one_hot = enc.transform(X_cat) # transform data into one hot encoded sparse array format"
      ]
    },
    {
      "cell_type": "code",
      "execution_count": null,
      "metadata": {
        "colab": {
          "base_uri": "https://localhost:8080/",
          "height": 278
        },
        "id": "1PcNP5HwMguj",
        "outputId": "418ac4fc-c4bf-4909-9f3b-00a76f527e74"
      },
      "outputs": [
        {
          "output_type": "execute_result",
          "data": {
            "text/plain": [
              "   loan_purpose_name_Home improvement  loan_purpose_name_Home purchase  \\\n",
              "0                                 0.0                              0.0   \n",
              "1                                 0.0                              1.0   \n",
              "2                                 0.0                              0.0   \n",
              "3                                 0.0                              0.0   \n",
              "4                                 1.0                              0.0   \n",
              "\n",
              "   loan_purpose_name_Refinancing  applicant_sex_name_Female  \\\n",
              "0                            1.0                        1.0   \n",
              "1                            0.0                        0.0   \n",
              "2                            1.0                        0.0   \n",
              "3                            1.0                        0.0   \n",
              "4                            0.0                        1.0   \n",
              "\n",
              "   applicant_sex_name_Information not provided by applicant in mail, Internet, or telephone application  \\\n",
              "0                                                0.0                                                      \n",
              "1                                                0.0                                                      \n",
              "2                                                0.0                                                      \n",
              "3                                                0.0                                                      \n",
              "4                                                0.0                                                      \n",
              "\n",
              "   applicant_sex_name_Male  applicant_sex_name_Not applicable  \n",
              "0                      0.0                                0.0  \n",
              "1                      1.0                                0.0  \n",
              "2                      1.0                                0.0  \n",
              "3                      1.0                                0.0  \n",
              "4                      0.0                                0.0  "
            ],
            "text/html": [
              "\n",
              "  <div id=\"df-d04c3957-a962-422d-8f20-497ff345ba9d\" class=\"colab-df-container\">\n",
              "    <div>\n",
              "<style scoped>\n",
              "    .dataframe tbody tr th:only-of-type {\n",
              "        vertical-align: middle;\n",
              "    }\n",
              "\n",
              "    .dataframe tbody tr th {\n",
              "        vertical-align: top;\n",
              "    }\n",
              "\n",
              "    .dataframe thead th {\n",
              "        text-align: right;\n",
              "    }\n",
              "</style>\n",
              "<table border=\"1\" class=\"dataframe\">\n",
              "  <thead>\n",
              "    <tr style=\"text-align: right;\">\n",
              "      <th></th>\n",
              "      <th>loan_purpose_name_Home improvement</th>\n",
              "      <th>loan_purpose_name_Home purchase</th>\n",
              "      <th>loan_purpose_name_Refinancing</th>\n",
              "      <th>applicant_sex_name_Female</th>\n",
              "      <th>applicant_sex_name_Information not provided by applicant in mail, Internet, or telephone application</th>\n",
              "      <th>applicant_sex_name_Male</th>\n",
              "      <th>applicant_sex_name_Not applicable</th>\n",
              "    </tr>\n",
              "  </thead>\n",
              "  <tbody>\n",
              "    <tr>\n",
              "      <th>0</th>\n",
              "      <td>0.0</td>\n",
              "      <td>0.0</td>\n",
              "      <td>1.0</td>\n",
              "      <td>1.0</td>\n",
              "      <td>0.0</td>\n",
              "      <td>0.0</td>\n",
              "      <td>0.0</td>\n",
              "    </tr>\n",
              "    <tr>\n",
              "      <th>1</th>\n",
              "      <td>0.0</td>\n",
              "      <td>1.0</td>\n",
              "      <td>0.0</td>\n",
              "      <td>0.0</td>\n",
              "      <td>0.0</td>\n",
              "      <td>1.0</td>\n",
              "      <td>0.0</td>\n",
              "    </tr>\n",
              "    <tr>\n",
              "      <th>2</th>\n",
              "      <td>0.0</td>\n",
              "      <td>0.0</td>\n",
              "      <td>1.0</td>\n",
              "      <td>0.0</td>\n",
              "      <td>0.0</td>\n",
              "      <td>1.0</td>\n",
              "      <td>0.0</td>\n",
              "    </tr>\n",
              "    <tr>\n",
              "      <th>3</th>\n",
              "      <td>0.0</td>\n",
              "      <td>0.0</td>\n",
              "      <td>1.0</td>\n",
              "      <td>0.0</td>\n",
              "      <td>0.0</td>\n",
              "      <td>1.0</td>\n",
              "      <td>0.0</td>\n",
              "    </tr>\n",
              "    <tr>\n",
              "      <th>4</th>\n",
              "      <td>1.0</td>\n",
              "      <td>0.0</td>\n",
              "      <td>0.0</td>\n",
              "      <td>1.0</td>\n",
              "      <td>0.0</td>\n",
              "      <td>0.0</td>\n",
              "      <td>0.0</td>\n",
              "    </tr>\n",
              "  </tbody>\n",
              "</table>\n",
              "</div>\n",
              "    <div class=\"colab-df-buttons\">\n",
              "\n",
              "  <div class=\"colab-df-container\">\n",
              "    <button class=\"colab-df-convert\" onclick=\"convertToInteractive('df-d04c3957-a962-422d-8f20-497ff345ba9d')\"\n",
              "            title=\"Convert this dataframe to an interactive table.\"\n",
              "            style=\"display:none;\">\n",
              "\n",
              "  <svg xmlns=\"http://www.w3.org/2000/svg\" height=\"24px\" viewBox=\"0 -960 960 960\">\n",
              "    <path d=\"M120-120v-720h720v720H120Zm60-500h600v-160H180v160Zm220 220h160v-160H400v160Zm0 220h160v-160H400v160ZM180-400h160v-160H180v160Zm440 0h160v-160H620v160ZM180-180h160v-160H180v160Zm440 0h160v-160H620v160Z\"/>\n",
              "  </svg>\n",
              "    </button>\n",
              "\n",
              "  <style>\n",
              "    .colab-df-container {\n",
              "      display:flex;\n",
              "      gap: 12px;\n",
              "    }\n",
              "\n",
              "    .colab-df-convert {\n",
              "      background-color: #E8F0FE;\n",
              "      border: none;\n",
              "      border-radius: 50%;\n",
              "      cursor: pointer;\n",
              "      display: none;\n",
              "      fill: #1967D2;\n",
              "      height: 32px;\n",
              "      padding: 0 0 0 0;\n",
              "      width: 32px;\n",
              "    }\n",
              "\n",
              "    .colab-df-convert:hover {\n",
              "      background-color: #E2EBFA;\n",
              "      box-shadow: 0px 1px 2px rgba(60, 64, 67, 0.3), 0px 1px 3px 1px rgba(60, 64, 67, 0.15);\n",
              "      fill: #174EA6;\n",
              "    }\n",
              "\n",
              "    .colab-df-buttons div {\n",
              "      margin-bottom: 4px;\n",
              "    }\n",
              "\n",
              "    [theme=dark] .colab-df-convert {\n",
              "      background-color: #3B4455;\n",
              "      fill: #D2E3FC;\n",
              "    }\n",
              "\n",
              "    [theme=dark] .colab-df-convert:hover {\n",
              "      background-color: #434B5C;\n",
              "      box-shadow: 0px 1px 3px 1px rgba(0, 0, 0, 0.15);\n",
              "      filter: drop-shadow(0px 1px 2px rgba(0, 0, 0, 0.3));\n",
              "      fill: #FFFFFF;\n",
              "    }\n",
              "  </style>\n",
              "\n",
              "    <script>\n",
              "      const buttonEl =\n",
              "        document.querySelector('#df-d04c3957-a962-422d-8f20-497ff345ba9d button.colab-df-convert');\n",
              "      buttonEl.style.display =\n",
              "        google.colab.kernel.accessAllowed ? 'block' : 'none';\n",
              "\n",
              "      async function convertToInteractive(key) {\n",
              "        const element = document.querySelector('#df-d04c3957-a962-422d-8f20-497ff345ba9d');\n",
              "        const dataTable =\n",
              "          await google.colab.kernel.invokeFunction('convertToInteractive',\n",
              "                                                    [key], {});\n",
              "        if (!dataTable) return;\n",
              "\n",
              "        const docLinkHtml = 'Like what you see? Visit the ' +\n",
              "          '<a target=\"_blank\" href=https://colab.research.google.com/notebooks/data_table.ipynb>data table notebook</a>'\n",
              "          + ' to learn more about interactive tables.';\n",
              "        element.innerHTML = '';\n",
              "        dataTable['output_type'] = 'display_data';\n",
              "        await google.colab.output.renderOutput(dataTable, element);\n",
              "        const docLink = document.createElement('div');\n",
              "        docLink.innerHTML = docLinkHtml;\n",
              "        element.appendChild(docLink);\n",
              "      }\n",
              "    </script>\n",
              "  </div>\n",
              "\n",
              "\n",
              "<div id=\"df-fd045e22-b670-41a4-bdb1-c3a16234bd4d\">\n",
              "  <button class=\"colab-df-quickchart\" onclick=\"quickchart('df-fd045e22-b670-41a4-bdb1-c3a16234bd4d')\"\n",
              "            title=\"Suggest charts.\"\n",
              "            style=\"display:none;\">\n",
              "\n",
              "<svg xmlns=\"http://www.w3.org/2000/svg\" height=\"24px\"viewBox=\"0 0 24 24\"\n",
              "     width=\"24px\">\n",
              "    <g>\n",
              "        <path d=\"M19 3H5c-1.1 0-2 .9-2 2v14c0 1.1.9 2 2 2h14c1.1 0 2-.9 2-2V5c0-1.1-.9-2-2-2zM9 17H7v-7h2v7zm4 0h-2V7h2v10zm4 0h-2v-4h2v4z\"/>\n",
              "    </g>\n",
              "</svg>\n",
              "  </button>\n",
              "\n",
              "<style>\n",
              "  .colab-df-quickchart {\n",
              "      --bg-color: #E8F0FE;\n",
              "      --fill-color: #1967D2;\n",
              "      --hover-bg-color: #E2EBFA;\n",
              "      --hover-fill-color: #174EA6;\n",
              "      --disabled-fill-color: #AAA;\n",
              "      --disabled-bg-color: #DDD;\n",
              "  }\n",
              "\n",
              "  [theme=dark] .colab-df-quickchart {\n",
              "      --bg-color: #3B4455;\n",
              "      --fill-color: #D2E3FC;\n",
              "      --hover-bg-color: #434B5C;\n",
              "      --hover-fill-color: #FFFFFF;\n",
              "      --disabled-bg-color: #3B4455;\n",
              "      --disabled-fill-color: #666;\n",
              "  }\n",
              "\n",
              "  .colab-df-quickchart {\n",
              "    background-color: var(--bg-color);\n",
              "    border: none;\n",
              "    border-radius: 50%;\n",
              "    cursor: pointer;\n",
              "    display: none;\n",
              "    fill: var(--fill-color);\n",
              "    height: 32px;\n",
              "    padding: 0;\n",
              "    width: 32px;\n",
              "  }\n",
              "\n",
              "  .colab-df-quickchart:hover {\n",
              "    background-color: var(--hover-bg-color);\n",
              "    box-shadow: 0 1px 2px rgba(60, 64, 67, 0.3), 0 1px 3px 1px rgba(60, 64, 67, 0.15);\n",
              "    fill: var(--button-hover-fill-color);\n",
              "  }\n",
              "\n",
              "  .colab-df-quickchart-complete:disabled,\n",
              "  .colab-df-quickchart-complete:disabled:hover {\n",
              "    background-color: var(--disabled-bg-color);\n",
              "    fill: var(--disabled-fill-color);\n",
              "    box-shadow: none;\n",
              "  }\n",
              "\n",
              "  .colab-df-spinner {\n",
              "    border: 2px solid var(--fill-color);\n",
              "    border-color: transparent;\n",
              "    border-bottom-color: var(--fill-color);\n",
              "    animation:\n",
              "      spin 1s steps(1) infinite;\n",
              "  }\n",
              "\n",
              "  @keyframes spin {\n",
              "    0% {\n",
              "      border-color: transparent;\n",
              "      border-bottom-color: var(--fill-color);\n",
              "      border-left-color: var(--fill-color);\n",
              "    }\n",
              "    20% {\n",
              "      border-color: transparent;\n",
              "      border-left-color: var(--fill-color);\n",
              "      border-top-color: var(--fill-color);\n",
              "    }\n",
              "    30% {\n",
              "      border-color: transparent;\n",
              "      border-left-color: var(--fill-color);\n",
              "      border-top-color: var(--fill-color);\n",
              "      border-right-color: var(--fill-color);\n",
              "    }\n",
              "    40% {\n",
              "      border-color: transparent;\n",
              "      border-right-color: var(--fill-color);\n",
              "      border-top-color: var(--fill-color);\n",
              "    }\n",
              "    60% {\n",
              "      border-color: transparent;\n",
              "      border-right-color: var(--fill-color);\n",
              "    }\n",
              "    80% {\n",
              "      border-color: transparent;\n",
              "      border-right-color: var(--fill-color);\n",
              "      border-bottom-color: var(--fill-color);\n",
              "    }\n",
              "    90% {\n",
              "      border-color: transparent;\n",
              "      border-bottom-color: var(--fill-color);\n",
              "    }\n",
              "  }\n",
              "</style>\n",
              "\n",
              "  <script>\n",
              "    async function quickchart(key) {\n",
              "      const quickchartButtonEl =\n",
              "        document.querySelector('#' + key + ' button');\n",
              "      quickchartButtonEl.disabled = true;  // To prevent multiple clicks.\n",
              "      quickchartButtonEl.classList.add('colab-df-spinner');\n",
              "      try {\n",
              "        const charts = await google.colab.kernel.invokeFunction(\n",
              "            'suggestCharts', [key], {});\n",
              "      } catch (error) {\n",
              "        console.error('Error during call to suggestCharts:', error);\n",
              "      }\n",
              "      quickchartButtonEl.classList.remove('colab-df-spinner');\n",
              "      quickchartButtonEl.classList.add('colab-df-quickchart-complete');\n",
              "    }\n",
              "    (() => {\n",
              "      let quickchartButtonEl =\n",
              "        document.querySelector('#df-fd045e22-b670-41a4-bdb1-c3a16234bd4d button');\n",
              "      quickchartButtonEl.style.display =\n",
              "        google.colab.kernel.accessAllowed ? 'block' : 'none';\n",
              "    })();\n",
              "  </script>\n",
              "</div>\n",
              "    </div>\n",
              "  </div>\n"
            ]
          },
          "metadata": {},
          "execution_count": 47
        }
      ],
      "source": [
        "# Finally, put the newly encoded sparse array back into a pandas dataframe so that we can use it\n",
        "X_cat_proc = pd.DataFrame(one_hot.toarray(), columns=enc.get_feature_names_out())\n",
        "X_cat_proc.head()"
      ]
    },
    {
      "cell_type": "markdown",
      "metadata": {
        "id": "hTdzex0VMguj"
      },
      "source": [
        "### Question 2.A: In your own words, how is one hot coding tranforming the categorical data? What does the term \"one-hot\" refer to?"
      ]
    },
    {
      "cell_type": "markdown",
      "metadata": {
        "id": "0AU_unMeMguk"
      },
      "source": [
        "The one hot coding is transforming the categorical data into machine eadable columns for each category. Each category in a particular row is represented by number \"1\" for its presence in the row and \"0\" for its absense.\n",
        "\n",
        "In the term \"one-hot\", one is the representation of the category and hot represents its presence."
      ]
    },
    {
      "cell_type": "markdown",
      "metadata": {
        "id": "yIaWYmDQMguk"
      },
      "source": [
        "### Part 2.B Scaling down continuous numerical data\n",
        "Run the following code to normalize any continous numberical features, such as loan dollar amount, between -1 and 0. This process will ensure that the average of that feature, such as the average amount that a person asks for in loan amount, is scaled to 0. Values less than the average will be negative numbers, and values larger than the average will be positive numbers."
      ]
    },
    {
      "cell_type": "code",
      "execution_count": null,
      "metadata": {
        "colab": {
          "base_uri": "https://localhost:8080/",
          "height": 206
        },
        "id": "iziU04nWMguk",
        "outputId": "c08a8625-e479-49b0-849c-63faa57e5dff"
      },
      "outputs": [
        {
          "output_type": "execute_result",
          "data": {
            "text/plain": [
              "   loan_amount_000s  applicant_income_000s\n",
              "0         -0.130864               0.016448\n",
              "1         -0.103680              -0.596232\n",
              "2         -0.101589               0.024727\n",
              "3          0.128424               1.664059\n",
              "4          0.266432              -0.000111"
            ],
            "text/html": [
              "\n",
              "  <div id=\"df-7c97c823-cc3a-4981-9c0b-4ba2be82af11\" class=\"colab-df-container\">\n",
              "    <div>\n",
              "<style scoped>\n",
              "    .dataframe tbody tr th:only-of-type {\n",
              "        vertical-align: middle;\n",
              "    }\n",
              "\n",
              "    .dataframe tbody tr th {\n",
              "        vertical-align: top;\n",
              "    }\n",
              "\n",
              "    .dataframe thead th {\n",
              "        text-align: right;\n",
              "    }\n",
              "</style>\n",
              "<table border=\"1\" class=\"dataframe\">\n",
              "  <thead>\n",
              "    <tr style=\"text-align: right;\">\n",
              "      <th></th>\n",
              "      <th>loan_amount_000s</th>\n",
              "      <th>applicant_income_000s</th>\n",
              "    </tr>\n",
              "  </thead>\n",
              "  <tbody>\n",
              "    <tr>\n",
              "      <th>0</th>\n",
              "      <td>-0.130864</td>\n",
              "      <td>0.016448</td>\n",
              "    </tr>\n",
              "    <tr>\n",
              "      <th>1</th>\n",
              "      <td>-0.103680</td>\n",
              "      <td>-0.596232</td>\n",
              "    </tr>\n",
              "    <tr>\n",
              "      <th>2</th>\n",
              "      <td>-0.101589</td>\n",
              "      <td>0.024727</td>\n",
              "    </tr>\n",
              "    <tr>\n",
              "      <th>3</th>\n",
              "      <td>0.128424</td>\n",
              "      <td>1.664059</td>\n",
              "    </tr>\n",
              "    <tr>\n",
              "      <th>4</th>\n",
              "      <td>0.266432</td>\n",
              "      <td>-0.000111</td>\n",
              "    </tr>\n",
              "  </tbody>\n",
              "</table>\n",
              "</div>\n",
              "    <div class=\"colab-df-buttons\">\n",
              "\n",
              "  <div class=\"colab-df-container\">\n",
              "    <button class=\"colab-df-convert\" onclick=\"convertToInteractive('df-7c97c823-cc3a-4981-9c0b-4ba2be82af11')\"\n",
              "            title=\"Convert this dataframe to an interactive table.\"\n",
              "            style=\"display:none;\">\n",
              "\n",
              "  <svg xmlns=\"http://www.w3.org/2000/svg\" height=\"24px\" viewBox=\"0 -960 960 960\">\n",
              "    <path d=\"M120-120v-720h720v720H120Zm60-500h600v-160H180v160Zm220 220h160v-160H400v160Zm0 220h160v-160H400v160ZM180-400h160v-160H180v160Zm440 0h160v-160H620v160ZM180-180h160v-160H180v160Zm440 0h160v-160H620v160Z\"/>\n",
              "  </svg>\n",
              "    </button>\n",
              "\n",
              "  <style>\n",
              "    .colab-df-container {\n",
              "      display:flex;\n",
              "      gap: 12px;\n",
              "    }\n",
              "\n",
              "    .colab-df-convert {\n",
              "      background-color: #E8F0FE;\n",
              "      border: none;\n",
              "      border-radius: 50%;\n",
              "      cursor: pointer;\n",
              "      display: none;\n",
              "      fill: #1967D2;\n",
              "      height: 32px;\n",
              "      padding: 0 0 0 0;\n",
              "      width: 32px;\n",
              "    }\n",
              "\n",
              "    .colab-df-convert:hover {\n",
              "      background-color: #E2EBFA;\n",
              "      box-shadow: 0px 1px 2px rgba(60, 64, 67, 0.3), 0px 1px 3px 1px rgba(60, 64, 67, 0.15);\n",
              "      fill: #174EA6;\n",
              "    }\n",
              "\n",
              "    .colab-df-buttons div {\n",
              "      margin-bottom: 4px;\n",
              "    }\n",
              "\n",
              "    [theme=dark] .colab-df-convert {\n",
              "      background-color: #3B4455;\n",
              "      fill: #D2E3FC;\n",
              "    }\n",
              "\n",
              "    [theme=dark] .colab-df-convert:hover {\n",
              "      background-color: #434B5C;\n",
              "      box-shadow: 0px 1px 3px 1px rgba(0, 0, 0, 0.15);\n",
              "      filter: drop-shadow(0px 1px 2px rgba(0, 0, 0, 0.3));\n",
              "      fill: #FFFFFF;\n",
              "    }\n",
              "  </style>\n",
              "\n",
              "    <script>\n",
              "      const buttonEl =\n",
              "        document.querySelector('#df-7c97c823-cc3a-4981-9c0b-4ba2be82af11 button.colab-df-convert');\n",
              "      buttonEl.style.display =\n",
              "        google.colab.kernel.accessAllowed ? 'block' : 'none';\n",
              "\n",
              "      async function convertToInteractive(key) {\n",
              "        const element = document.querySelector('#df-7c97c823-cc3a-4981-9c0b-4ba2be82af11');\n",
              "        const dataTable =\n",
              "          await google.colab.kernel.invokeFunction('convertToInteractive',\n",
              "                                                    [key], {});\n",
              "        if (!dataTable) return;\n",
              "\n",
              "        const docLinkHtml = 'Like what you see? Visit the ' +\n",
              "          '<a target=\"_blank\" href=https://colab.research.google.com/notebooks/data_table.ipynb>data table notebook</a>'\n",
              "          + ' to learn more about interactive tables.';\n",
              "        element.innerHTML = '';\n",
              "        dataTable['output_type'] = 'display_data';\n",
              "        await google.colab.output.renderOutput(dataTable, element);\n",
              "        const docLink = document.createElement('div');\n",
              "        docLink.innerHTML = docLinkHtml;\n",
              "        element.appendChild(docLink);\n",
              "      }\n",
              "    </script>\n",
              "  </div>\n",
              "\n",
              "\n",
              "<div id=\"df-ae1f4314-2983-4033-b4a3-cce0ac9db845\">\n",
              "  <button class=\"colab-df-quickchart\" onclick=\"quickchart('df-ae1f4314-2983-4033-b4a3-cce0ac9db845')\"\n",
              "            title=\"Suggest charts.\"\n",
              "            style=\"display:none;\">\n",
              "\n",
              "<svg xmlns=\"http://www.w3.org/2000/svg\" height=\"24px\"viewBox=\"0 0 24 24\"\n",
              "     width=\"24px\">\n",
              "    <g>\n",
              "        <path d=\"M19 3H5c-1.1 0-2 .9-2 2v14c0 1.1.9 2 2 2h14c1.1 0 2-.9 2-2V5c0-1.1-.9-2-2-2zM9 17H7v-7h2v7zm4 0h-2V7h2v10zm4 0h-2v-4h2v4z\"/>\n",
              "    </g>\n",
              "</svg>\n",
              "  </button>\n",
              "\n",
              "<style>\n",
              "  .colab-df-quickchart {\n",
              "      --bg-color: #E8F0FE;\n",
              "      --fill-color: #1967D2;\n",
              "      --hover-bg-color: #E2EBFA;\n",
              "      --hover-fill-color: #174EA6;\n",
              "      --disabled-fill-color: #AAA;\n",
              "      --disabled-bg-color: #DDD;\n",
              "  }\n",
              "\n",
              "  [theme=dark] .colab-df-quickchart {\n",
              "      --bg-color: #3B4455;\n",
              "      --fill-color: #D2E3FC;\n",
              "      --hover-bg-color: #434B5C;\n",
              "      --hover-fill-color: #FFFFFF;\n",
              "      --disabled-bg-color: #3B4455;\n",
              "      --disabled-fill-color: #666;\n",
              "  }\n",
              "\n",
              "  .colab-df-quickchart {\n",
              "    background-color: var(--bg-color);\n",
              "    border: none;\n",
              "    border-radius: 50%;\n",
              "    cursor: pointer;\n",
              "    display: none;\n",
              "    fill: var(--fill-color);\n",
              "    height: 32px;\n",
              "    padding: 0;\n",
              "    width: 32px;\n",
              "  }\n",
              "\n",
              "  .colab-df-quickchart:hover {\n",
              "    background-color: var(--hover-bg-color);\n",
              "    box-shadow: 0 1px 2px rgba(60, 64, 67, 0.3), 0 1px 3px 1px rgba(60, 64, 67, 0.15);\n",
              "    fill: var(--button-hover-fill-color);\n",
              "  }\n",
              "\n",
              "  .colab-df-quickchart-complete:disabled,\n",
              "  .colab-df-quickchart-complete:disabled:hover {\n",
              "    background-color: var(--disabled-bg-color);\n",
              "    fill: var(--disabled-fill-color);\n",
              "    box-shadow: none;\n",
              "  }\n",
              "\n",
              "  .colab-df-spinner {\n",
              "    border: 2px solid var(--fill-color);\n",
              "    border-color: transparent;\n",
              "    border-bottom-color: var(--fill-color);\n",
              "    animation:\n",
              "      spin 1s steps(1) infinite;\n",
              "  }\n",
              "\n",
              "  @keyframes spin {\n",
              "    0% {\n",
              "      border-color: transparent;\n",
              "      border-bottom-color: var(--fill-color);\n",
              "      border-left-color: var(--fill-color);\n",
              "    }\n",
              "    20% {\n",
              "      border-color: transparent;\n",
              "      border-left-color: var(--fill-color);\n",
              "      border-top-color: var(--fill-color);\n",
              "    }\n",
              "    30% {\n",
              "      border-color: transparent;\n",
              "      border-left-color: var(--fill-color);\n",
              "      border-top-color: var(--fill-color);\n",
              "      border-right-color: var(--fill-color);\n",
              "    }\n",
              "    40% {\n",
              "      border-color: transparent;\n",
              "      border-right-color: var(--fill-color);\n",
              "      border-top-color: var(--fill-color);\n",
              "    }\n",
              "    60% {\n",
              "      border-color: transparent;\n",
              "      border-right-color: var(--fill-color);\n",
              "    }\n",
              "    80% {\n",
              "      border-color: transparent;\n",
              "      border-right-color: var(--fill-color);\n",
              "      border-bottom-color: var(--fill-color);\n",
              "    }\n",
              "    90% {\n",
              "      border-color: transparent;\n",
              "      border-bottom-color: var(--fill-color);\n",
              "    }\n",
              "  }\n",
              "</style>\n",
              "\n",
              "  <script>\n",
              "    async function quickchart(key) {\n",
              "      const quickchartButtonEl =\n",
              "        document.querySelector('#' + key + ' button');\n",
              "      quickchartButtonEl.disabled = true;  // To prevent multiple clicks.\n",
              "      quickchartButtonEl.classList.add('colab-df-spinner');\n",
              "      try {\n",
              "        const charts = await google.colab.kernel.invokeFunction(\n",
              "            'suggestCharts', [key], {});\n",
              "      } catch (error) {\n",
              "        console.error('Error during call to suggestCharts:', error);\n",
              "      }\n",
              "      quickchartButtonEl.classList.remove('colab-df-spinner');\n",
              "      quickchartButtonEl.classList.add('colab-df-quickchart-complete');\n",
              "    }\n",
              "    (() => {\n",
              "      let quickchartButtonEl =\n",
              "        document.querySelector('#df-ae1f4314-2983-4033-b4a3-cce0ac9db845 button');\n",
              "      quickchartButtonEl.style.display =\n",
              "        google.colab.kernel.accessAllowed ? 'block' : 'none';\n",
              "    })();\n",
              "  </script>\n",
              "</div>\n",
              "    </div>\n",
              "  </div>\n"
            ]
          },
          "metadata": {},
          "execution_count": 48
        }
      ],
      "source": [
        "scaled = preprocessing.scale(X_num)\n",
        "X_num_proc = pd.DataFrame(scaled, columns=features_num)\n",
        "X_num_proc.head()"
      ]
    },
    {
      "cell_type": "markdown",
      "metadata": {
        "id": "ejvCwqZlMguk"
      },
      "source": [
        "### Part 2.C Merge our feature sets into one sample dataset _X_ and fix NaN values\n",
        "Run the code below to combine the numerical and categorical feature sets."
      ]
    },
    {
      "cell_type": "code",
      "execution_count": null,
      "metadata": {
        "colab": {
          "base_uri": "https://localhost:8080/",
          "height": 278
        },
        "id": "HKQLFUPzMguk",
        "outputId": "ca0b1984-66f6-4868-ae88-9bd6f495ddf8"
      },
      "outputs": [
        {
          "output_type": "execute_result",
          "data": {
            "text/plain": [
              "   loan_amount_000s  applicant_income_000s  \\\n",
              "0         -0.130864               0.016448   \n",
              "1         -0.103680              -0.596232   \n",
              "2         -0.101589               0.024727   \n",
              "3          0.128424               1.664059   \n",
              "4          0.266432              -0.000111   \n",
              "\n",
              "   loan_purpose_name_Home improvement  loan_purpose_name_Home purchase  \\\n",
              "0                                 0.0                              0.0   \n",
              "1                                 0.0                              1.0   \n",
              "2                                 0.0                              0.0   \n",
              "3                                 0.0                              0.0   \n",
              "4                                 1.0                              0.0   \n",
              "\n",
              "   loan_purpose_name_Refinancing  applicant_sex_name_Female  \\\n",
              "0                            1.0                        1.0   \n",
              "1                            0.0                        0.0   \n",
              "2                            1.0                        0.0   \n",
              "3                            1.0                        0.0   \n",
              "4                            0.0                        1.0   \n",
              "\n",
              "   applicant_sex_name_Information not provided by applicant in mail, Internet, or telephone application  \\\n",
              "0                                                0.0                                                      \n",
              "1                                                0.0                                                      \n",
              "2                                                0.0                                                      \n",
              "3                                                0.0                                                      \n",
              "4                                                0.0                                                      \n",
              "\n",
              "   applicant_sex_name_Male  applicant_sex_name_Not applicable  \n",
              "0                      0.0                                0.0  \n",
              "1                      1.0                                0.0  \n",
              "2                      1.0                                0.0  \n",
              "3                      1.0                                0.0  \n",
              "4                      0.0                                0.0  "
            ],
            "text/html": [
              "\n",
              "  <div id=\"df-b8ef5d2b-a6ba-457c-9501-14aea1b73657\" class=\"colab-df-container\">\n",
              "    <div>\n",
              "<style scoped>\n",
              "    .dataframe tbody tr th:only-of-type {\n",
              "        vertical-align: middle;\n",
              "    }\n",
              "\n",
              "    .dataframe tbody tr th {\n",
              "        vertical-align: top;\n",
              "    }\n",
              "\n",
              "    .dataframe thead th {\n",
              "        text-align: right;\n",
              "    }\n",
              "</style>\n",
              "<table border=\"1\" class=\"dataframe\">\n",
              "  <thead>\n",
              "    <tr style=\"text-align: right;\">\n",
              "      <th></th>\n",
              "      <th>loan_amount_000s</th>\n",
              "      <th>applicant_income_000s</th>\n",
              "      <th>loan_purpose_name_Home improvement</th>\n",
              "      <th>loan_purpose_name_Home purchase</th>\n",
              "      <th>loan_purpose_name_Refinancing</th>\n",
              "      <th>applicant_sex_name_Female</th>\n",
              "      <th>applicant_sex_name_Information not provided by applicant in mail, Internet, or telephone application</th>\n",
              "      <th>applicant_sex_name_Male</th>\n",
              "      <th>applicant_sex_name_Not applicable</th>\n",
              "    </tr>\n",
              "  </thead>\n",
              "  <tbody>\n",
              "    <tr>\n",
              "      <th>0</th>\n",
              "      <td>-0.130864</td>\n",
              "      <td>0.016448</td>\n",
              "      <td>0.0</td>\n",
              "      <td>0.0</td>\n",
              "      <td>1.0</td>\n",
              "      <td>1.0</td>\n",
              "      <td>0.0</td>\n",
              "      <td>0.0</td>\n",
              "      <td>0.0</td>\n",
              "    </tr>\n",
              "    <tr>\n",
              "      <th>1</th>\n",
              "      <td>-0.103680</td>\n",
              "      <td>-0.596232</td>\n",
              "      <td>0.0</td>\n",
              "      <td>1.0</td>\n",
              "      <td>0.0</td>\n",
              "      <td>0.0</td>\n",
              "      <td>0.0</td>\n",
              "      <td>1.0</td>\n",
              "      <td>0.0</td>\n",
              "    </tr>\n",
              "    <tr>\n",
              "      <th>2</th>\n",
              "      <td>-0.101589</td>\n",
              "      <td>0.024727</td>\n",
              "      <td>0.0</td>\n",
              "      <td>0.0</td>\n",
              "      <td>1.0</td>\n",
              "      <td>0.0</td>\n",
              "      <td>0.0</td>\n",
              "      <td>1.0</td>\n",
              "      <td>0.0</td>\n",
              "    </tr>\n",
              "    <tr>\n",
              "      <th>3</th>\n",
              "      <td>0.128424</td>\n",
              "      <td>1.664059</td>\n",
              "      <td>0.0</td>\n",
              "      <td>0.0</td>\n",
              "      <td>1.0</td>\n",
              "      <td>0.0</td>\n",
              "      <td>0.0</td>\n",
              "      <td>1.0</td>\n",
              "      <td>0.0</td>\n",
              "    </tr>\n",
              "    <tr>\n",
              "      <th>4</th>\n",
              "      <td>0.266432</td>\n",
              "      <td>-0.000111</td>\n",
              "      <td>1.0</td>\n",
              "      <td>0.0</td>\n",
              "      <td>0.0</td>\n",
              "      <td>1.0</td>\n",
              "      <td>0.0</td>\n",
              "      <td>0.0</td>\n",
              "      <td>0.0</td>\n",
              "    </tr>\n",
              "  </tbody>\n",
              "</table>\n",
              "</div>\n",
              "    <div class=\"colab-df-buttons\">\n",
              "\n",
              "  <div class=\"colab-df-container\">\n",
              "    <button class=\"colab-df-convert\" onclick=\"convertToInteractive('df-b8ef5d2b-a6ba-457c-9501-14aea1b73657')\"\n",
              "            title=\"Convert this dataframe to an interactive table.\"\n",
              "            style=\"display:none;\">\n",
              "\n",
              "  <svg xmlns=\"http://www.w3.org/2000/svg\" height=\"24px\" viewBox=\"0 -960 960 960\">\n",
              "    <path d=\"M120-120v-720h720v720H120Zm60-500h600v-160H180v160Zm220 220h160v-160H400v160Zm0 220h160v-160H400v160ZM180-400h160v-160H180v160Zm440 0h160v-160H620v160ZM180-180h160v-160H180v160Zm440 0h160v-160H620v160Z\"/>\n",
              "  </svg>\n",
              "    </button>\n",
              "\n",
              "  <style>\n",
              "    .colab-df-container {\n",
              "      display:flex;\n",
              "      gap: 12px;\n",
              "    }\n",
              "\n",
              "    .colab-df-convert {\n",
              "      background-color: #E8F0FE;\n",
              "      border: none;\n",
              "      border-radius: 50%;\n",
              "      cursor: pointer;\n",
              "      display: none;\n",
              "      fill: #1967D2;\n",
              "      height: 32px;\n",
              "      padding: 0 0 0 0;\n",
              "      width: 32px;\n",
              "    }\n",
              "\n",
              "    .colab-df-convert:hover {\n",
              "      background-color: #E2EBFA;\n",
              "      box-shadow: 0px 1px 2px rgba(60, 64, 67, 0.3), 0px 1px 3px 1px rgba(60, 64, 67, 0.15);\n",
              "      fill: #174EA6;\n",
              "    }\n",
              "\n",
              "    .colab-df-buttons div {\n",
              "      margin-bottom: 4px;\n",
              "    }\n",
              "\n",
              "    [theme=dark] .colab-df-convert {\n",
              "      background-color: #3B4455;\n",
              "      fill: #D2E3FC;\n",
              "    }\n",
              "\n",
              "    [theme=dark] .colab-df-convert:hover {\n",
              "      background-color: #434B5C;\n",
              "      box-shadow: 0px 1px 3px 1px rgba(0, 0, 0, 0.15);\n",
              "      filter: drop-shadow(0px 1px 2px rgba(0, 0, 0, 0.3));\n",
              "      fill: #FFFFFF;\n",
              "    }\n",
              "  </style>\n",
              "\n",
              "    <script>\n",
              "      const buttonEl =\n",
              "        document.querySelector('#df-b8ef5d2b-a6ba-457c-9501-14aea1b73657 button.colab-df-convert');\n",
              "      buttonEl.style.display =\n",
              "        google.colab.kernel.accessAllowed ? 'block' : 'none';\n",
              "\n",
              "      async function convertToInteractive(key) {\n",
              "        const element = document.querySelector('#df-b8ef5d2b-a6ba-457c-9501-14aea1b73657');\n",
              "        const dataTable =\n",
              "          await google.colab.kernel.invokeFunction('convertToInteractive',\n",
              "                                                    [key], {});\n",
              "        if (!dataTable) return;\n",
              "\n",
              "        const docLinkHtml = 'Like what you see? Visit the ' +\n",
              "          '<a target=\"_blank\" href=https://colab.research.google.com/notebooks/data_table.ipynb>data table notebook</a>'\n",
              "          + ' to learn more about interactive tables.';\n",
              "        element.innerHTML = '';\n",
              "        dataTable['output_type'] = 'display_data';\n",
              "        await google.colab.output.renderOutput(dataTable, element);\n",
              "        const docLink = document.createElement('div');\n",
              "        docLink.innerHTML = docLinkHtml;\n",
              "        element.appendChild(docLink);\n",
              "      }\n",
              "    </script>\n",
              "  </div>\n",
              "\n",
              "\n",
              "<div id=\"df-385b38bd-5d71-4ebd-8c5f-a62463cae101\">\n",
              "  <button class=\"colab-df-quickchart\" onclick=\"quickchart('df-385b38bd-5d71-4ebd-8c5f-a62463cae101')\"\n",
              "            title=\"Suggest charts.\"\n",
              "            style=\"display:none;\">\n",
              "\n",
              "<svg xmlns=\"http://www.w3.org/2000/svg\" height=\"24px\"viewBox=\"0 0 24 24\"\n",
              "     width=\"24px\">\n",
              "    <g>\n",
              "        <path d=\"M19 3H5c-1.1 0-2 .9-2 2v14c0 1.1.9 2 2 2h14c1.1 0 2-.9 2-2V5c0-1.1-.9-2-2-2zM9 17H7v-7h2v7zm4 0h-2V7h2v10zm4 0h-2v-4h2v4z\"/>\n",
              "    </g>\n",
              "</svg>\n",
              "  </button>\n",
              "\n",
              "<style>\n",
              "  .colab-df-quickchart {\n",
              "      --bg-color: #E8F0FE;\n",
              "      --fill-color: #1967D2;\n",
              "      --hover-bg-color: #E2EBFA;\n",
              "      --hover-fill-color: #174EA6;\n",
              "      --disabled-fill-color: #AAA;\n",
              "      --disabled-bg-color: #DDD;\n",
              "  }\n",
              "\n",
              "  [theme=dark] .colab-df-quickchart {\n",
              "      --bg-color: #3B4455;\n",
              "      --fill-color: #D2E3FC;\n",
              "      --hover-bg-color: #434B5C;\n",
              "      --hover-fill-color: #FFFFFF;\n",
              "      --disabled-bg-color: #3B4455;\n",
              "      --disabled-fill-color: #666;\n",
              "  }\n",
              "\n",
              "  .colab-df-quickchart {\n",
              "    background-color: var(--bg-color);\n",
              "    border: none;\n",
              "    border-radius: 50%;\n",
              "    cursor: pointer;\n",
              "    display: none;\n",
              "    fill: var(--fill-color);\n",
              "    height: 32px;\n",
              "    padding: 0;\n",
              "    width: 32px;\n",
              "  }\n",
              "\n",
              "  .colab-df-quickchart:hover {\n",
              "    background-color: var(--hover-bg-color);\n",
              "    box-shadow: 0 1px 2px rgba(60, 64, 67, 0.3), 0 1px 3px 1px rgba(60, 64, 67, 0.15);\n",
              "    fill: var(--button-hover-fill-color);\n",
              "  }\n",
              "\n",
              "  .colab-df-quickchart-complete:disabled,\n",
              "  .colab-df-quickchart-complete:disabled:hover {\n",
              "    background-color: var(--disabled-bg-color);\n",
              "    fill: var(--disabled-fill-color);\n",
              "    box-shadow: none;\n",
              "  }\n",
              "\n",
              "  .colab-df-spinner {\n",
              "    border: 2px solid var(--fill-color);\n",
              "    border-color: transparent;\n",
              "    border-bottom-color: var(--fill-color);\n",
              "    animation:\n",
              "      spin 1s steps(1) infinite;\n",
              "  }\n",
              "\n",
              "  @keyframes spin {\n",
              "    0% {\n",
              "      border-color: transparent;\n",
              "      border-bottom-color: var(--fill-color);\n",
              "      border-left-color: var(--fill-color);\n",
              "    }\n",
              "    20% {\n",
              "      border-color: transparent;\n",
              "      border-left-color: var(--fill-color);\n",
              "      border-top-color: var(--fill-color);\n",
              "    }\n",
              "    30% {\n",
              "      border-color: transparent;\n",
              "      border-left-color: var(--fill-color);\n",
              "      border-top-color: var(--fill-color);\n",
              "      border-right-color: var(--fill-color);\n",
              "    }\n",
              "    40% {\n",
              "      border-color: transparent;\n",
              "      border-right-color: var(--fill-color);\n",
              "      border-top-color: var(--fill-color);\n",
              "    }\n",
              "    60% {\n",
              "      border-color: transparent;\n",
              "      border-right-color: var(--fill-color);\n",
              "    }\n",
              "    80% {\n",
              "      border-color: transparent;\n",
              "      border-right-color: var(--fill-color);\n",
              "      border-bottom-color: var(--fill-color);\n",
              "    }\n",
              "    90% {\n",
              "      border-color: transparent;\n",
              "      border-bottom-color: var(--fill-color);\n",
              "    }\n",
              "  }\n",
              "</style>\n",
              "\n",
              "  <script>\n",
              "    async function quickchart(key) {\n",
              "      const quickchartButtonEl =\n",
              "        document.querySelector('#' + key + ' button');\n",
              "      quickchartButtonEl.disabled = true;  // To prevent multiple clicks.\n",
              "      quickchartButtonEl.classList.add('colab-df-spinner');\n",
              "      try {\n",
              "        const charts = await google.colab.kernel.invokeFunction(\n",
              "            'suggestCharts', [key], {});\n",
              "      } catch (error) {\n",
              "        console.error('Error during call to suggestCharts:', error);\n",
              "      }\n",
              "      quickchartButtonEl.classList.remove('colab-df-spinner');\n",
              "      quickchartButtonEl.classList.add('colab-df-quickchart-complete');\n",
              "    }\n",
              "    (() => {\n",
              "      let quickchartButtonEl =\n",
              "        document.querySelector('#df-385b38bd-5d71-4ebd-8c5f-a62463cae101 button');\n",
              "      quickchartButtonEl.style.display =\n",
              "        google.colab.kernel.accessAllowed ? 'block' : 'none';\n",
              "    })();\n",
              "  </script>\n",
              "</div>\n",
              "    </div>\n",
              "  </div>\n"
            ]
          },
          "metadata": {},
          "execution_count": 49
        }
      ],
      "source": [
        "X = pd.concat([X_num_proc, X_cat_proc], axis=1, sort=False)\n",
        "X.head()"
      ]
    },
    {
      "cell_type": "markdown",
      "metadata": {
        "id": "-zdTVZ1oMguk"
      },
      "source": [
        "### Question 2.C Describe what the code below does."
      ]
    },
    {
      "cell_type": "markdown",
      "metadata": {
        "id": "t-LWWentMgul"
      },
      "source": [
        "It replaces all the mising values in the entire dataframe with zero value."
      ]
    },
    {
      "cell_type": "code",
      "execution_count": null,
      "metadata": {
        "id": "VGRQ6MB5Mgul"
      },
      "outputs": [],
      "source": [
        "X = X.fillna(0)"
      ]
    },
    {
      "cell_type": "code",
      "execution_count": null,
      "metadata": {
        "colab": {
          "base_uri": "https://localhost:8080/",
          "height": 278
        },
        "id": "ZjpneNaKcdSM",
        "outputId": "51c4d5d8-ac3f-4f70-cd23-a9b40e87f03f"
      },
      "outputs": [
        {
          "output_type": "execute_result",
          "data": {
            "text/plain": [
              "   loan_amount_000s  applicant_income_000s  \\\n",
              "0         -0.130864               0.016448   \n",
              "1         -0.103680              -0.596232   \n",
              "2         -0.101589               0.024727   \n",
              "3          0.128424               1.664059   \n",
              "4          0.266432              -0.000111   \n",
              "\n",
              "   loan_purpose_name_Home improvement  loan_purpose_name_Home purchase  \\\n",
              "0                                 0.0                              0.0   \n",
              "1                                 0.0                              1.0   \n",
              "2                                 0.0                              0.0   \n",
              "3                                 0.0                              0.0   \n",
              "4                                 1.0                              0.0   \n",
              "\n",
              "   loan_purpose_name_Refinancing  applicant_sex_name_Female  \\\n",
              "0                            1.0                        1.0   \n",
              "1                            0.0                        0.0   \n",
              "2                            1.0                        0.0   \n",
              "3                            1.0                        0.0   \n",
              "4                            0.0                        1.0   \n",
              "\n",
              "   applicant_sex_name_Information not provided by applicant in mail, Internet, or telephone application  \\\n",
              "0                                                0.0                                                      \n",
              "1                                                0.0                                                      \n",
              "2                                                0.0                                                      \n",
              "3                                                0.0                                                      \n",
              "4                                                0.0                                                      \n",
              "\n",
              "   applicant_sex_name_Male  applicant_sex_name_Not applicable  \n",
              "0                      0.0                                0.0  \n",
              "1                      1.0                                0.0  \n",
              "2                      1.0                                0.0  \n",
              "3                      1.0                                0.0  \n",
              "4                      0.0                                0.0  "
            ],
            "text/html": [
              "\n",
              "  <div id=\"df-fe550337-498d-47f8-b397-e0b8790170fc\" class=\"colab-df-container\">\n",
              "    <div>\n",
              "<style scoped>\n",
              "    .dataframe tbody tr th:only-of-type {\n",
              "        vertical-align: middle;\n",
              "    }\n",
              "\n",
              "    .dataframe tbody tr th {\n",
              "        vertical-align: top;\n",
              "    }\n",
              "\n",
              "    .dataframe thead th {\n",
              "        text-align: right;\n",
              "    }\n",
              "</style>\n",
              "<table border=\"1\" class=\"dataframe\">\n",
              "  <thead>\n",
              "    <tr style=\"text-align: right;\">\n",
              "      <th></th>\n",
              "      <th>loan_amount_000s</th>\n",
              "      <th>applicant_income_000s</th>\n",
              "      <th>loan_purpose_name_Home improvement</th>\n",
              "      <th>loan_purpose_name_Home purchase</th>\n",
              "      <th>loan_purpose_name_Refinancing</th>\n",
              "      <th>applicant_sex_name_Female</th>\n",
              "      <th>applicant_sex_name_Information not provided by applicant in mail, Internet, or telephone application</th>\n",
              "      <th>applicant_sex_name_Male</th>\n",
              "      <th>applicant_sex_name_Not applicable</th>\n",
              "    </tr>\n",
              "  </thead>\n",
              "  <tbody>\n",
              "    <tr>\n",
              "      <th>0</th>\n",
              "      <td>-0.130864</td>\n",
              "      <td>0.016448</td>\n",
              "      <td>0.0</td>\n",
              "      <td>0.0</td>\n",
              "      <td>1.0</td>\n",
              "      <td>1.0</td>\n",
              "      <td>0.0</td>\n",
              "      <td>0.0</td>\n",
              "      <td>0.0</td>\n",
              "    </tr>\n",
              "    <tr>\n",
              "      <th>1</th>\n",
              "      <td>-0.103680</td>\n",
              "      <td>-0.596232</td>\n",
              "      <td>0.0</td>\n",
              "      <td>1.0</td>\n",
              "      <td>0.0</td>\n",
              "      <td>0.0</td>\n",
              "      <td>0.0</td>\n",
              "      <td>1.0</td>\n",
              "      <td>0.0</td>\n",
              "    </tr>\n",
              "    <tr>\n",
              "      <th>2</th>\n",
              "      <td>-0.101589</td>\n",
              "      <td>0.024727</td>\n",
              "      <td>0.0</td>\n",
              "      <td>0.0</td>\n",
              "      <td>1.0</td>\n",
              "      <td>0.0</td>\n",
              "      <td>0.0</td>\n",
              "      <td>1.0</td>\n",
              "      <td>0.0</td>\n",
              "    </tr>\n",
              "    <tr>\n",
              "      <th>3</th>\n",
              "      <td>0.128424</td>\n",
              "      <td>1.664059</td>\n",
              "      <td>0.0</td>\n",
              "      <td>0.0</td>\n",
              "      <td>1.0</td>\n",
              "      <td>0.0</td>\n",
              "      <td>0.0</td>\n",
              "      <td>1.0</td>\n",
              "      <td>0.0</td>\n",
              "    </tr>\n",
              "    <tr>\n",
              "      <th>4</th>\n",
              "      <td>0.266432</td>\n",
              "      <td>-0.000111</td>\n",
              "      <td>1.0</td>\n",
              "      <td>0.0</td>\n",
              "      <td>0.0</td>\n",
              "      <td>1.0</td>\n",
              "      <td>0.0</td>\n",
              "      <td>0.0</td>\n",
              "      <td>0.0</td>\n",
              "    </tr>\n",
              "  </tbody>\n",
              "</table>\n",
              "</div>\n",
              "    <div class=\"colab-df-buttons\">\n",
              "\n",
              "  <div class=\"colab-df-container\">\n",
              "    <button class=\"colab-df-convert\" onclick=\"convertToInteractive('df-fe550337-498d-47f8-b397-e0b8790170fc')\"\n",
              "            title=\"Convert this dataframe to an interactive table.\"\n",
              "            style=\"display:none;\">\n",
              "\n",
              "  <svg xmlns=\"http://www.w3.org/2000/svg\" height=\"24px\" viewBox=\"0 -960 960 960\">\n",
              "    <path d=\"M120-120v-720h720v720H120Zm60-500h600v-160H180v160Zm220 220h160v-160H400v160Zm0 220h160v-160H400v160ZM180-400h160v-160H180v160Zm440 0h160v-160H620v160ZM180-180h160v-160H180v160Zm440 0h160v-160H620v160Z\"/>\n",
              "  </svg>\n",
              "    </button>\n",
              "\n",
              "  <style>\n",
              "    .colab-df-container {\n",
              "      display:flex;\n",
              "      gap: 12px;\n",
              "    }\n",
              "\n",
              "    .colab-df-convert {\n",
              "      background-color: #E8F0FE;\n",
              "      border: none;\n",
              "      border-radius: 50%;\n",
              "      cursor: pointer;\n",
              "      display: none;\n",
              "      fill: #1967D2;\n",
              "      height: 32px;\n",
              "      padding: 0 0 0 0;\n",
              "      width: 32px;\n",
              "    }\n",
              "\n",
              "    .colab-df-convert:hover {\n",
              "      background-color: #E2EBFA;\n",
              "      box-shadow: 0px 1px 2px rgba(60, 64, 67, 0.3), 0px 1px 3px 1px rgba(60, 64, 67, 0.15);\n",
              "      fill: #174EA6;\n",
              "    }\n",
              "\n",
              "    .colab-df-buttons div {\n",
              "      margin-bottom: 4px;\n",
              "    }\n",
              "\n",
              "    [theme=dark] .colab-df-convert {\n",
              "      background-color: #3B4455;\n",
              "      fill: #D2E3FC;\n",
              "    }\n",
              "\n",
              "    [theme=dark] .colab-df-convert:hover {\n",
              "      background-color: #434B5C;\n",
              "      box-shadow: 0px 1px 3px 1px rgba(0, 0, 0, 0.15);\n",
              "      filter: drop-shadow(0px 1px 2px rgba(0, 0, 0, 0.3));\n",
              "      fill: #FFFFFF;\n",
              "    }\n",
              "  </style>\n",
              "\n",
              "    <script>\n",
              "      const buttonEl =\n",
              "        document.querySelector('#df-fe550337-498d-47f8-b397-e0b8790170fc button.colab-df-convert');\n",
              "      buttonEl.style.display =\n",
              "        google.colab.kernel.accessAllowed ? 'block' : 'none';\n",
              "\n",
              "      async function convertToInteractive(key) {\n",
              "        const element = document.querySelector('#df-fe550337-498d-47f8-b397-e0b8790170fc');\n",
              "        const dataTable =\n",
              "          await google.colab.kernel.invokeFunction('convertToInteractive',\n",
              "                                                    [key], {});\n",
              "        if (!dataTable) return;\n",
              "\n",
              "        const docLinkHtml = 'Like what you see? Visit the ' +\n",
              "          '<a target=\"_blank\" href=https://colab.research.google.com/notebooks/data_table.ipynb>data table notebook</a>'\n",
              "          + ' to learn more about interactive tables.';\n",
              "        element.innerHTML = '';\n",
              "        dataTable['output_type'] = 'display_data';\n",
              "        await google.colab.output.renderOutput(dataTable, element);\n",
              "        const docLink = document.createElement('div');\n",
              "        docLink.innerHTML = docLinkHtml;\n",
              "        element.appendChild(docLink);\n",
              "      }\n",
              "    </script>\n",
              "  </div>\n",
              "\n",
              "\n",
              "<div id=\"df-fe55808d-e3d7-42e0-a8b8-040c4e619e72\">\n",
              "  <button class=\"colab-df-quickchart\" onclick=\"quickchart('df-fe55808d-e3d7-42e0-a8b8-040c4e619e72')\"\n",
              "            title=\"Suggest charts.\"\n",
              "            style=\"display:none;\">\n",
              "\n",
              "<svg xmlns=\"http://www.w3.org/2000/svg\" height=\"24px\"viewBox=\"0 0 24 24\"\n",
              "     width=\"24px\">\n",
              "    <g>\n",
              "        <path d=\"M19 3H5c-1.1 0-2 .9-2 2v14c0 1.1.9 2 2 2h14c1.1 0 2-.9 2-2V5c0-1.1-.9-2-2-2zM9 17H7v-7h2v7zm4 0h-2V7h2v10zm4 0h-2v-4h2v4z\"/>\n",
              "    </g>\n",
              "</svg>\n",
              "  </button>\n",
              "\n",
              "<style>\n",
              "  .colab-df-quickchart {\n",
              "      --bg-color: #E8F0FE;\n",
              "      --fill-color: #1967D2;\n",
              "      --hover-bg-color: #E2EBFA;\n",
              "      --hover-fill-color: #174EA6;\n",
              "      --disabled-fill-color: #AAA;\n",
              "      --disabled-bg-color: #DDD;\n",
              "  }\n",
              "\n",
              "  [theme=dark] .colab-df-quickchart {\n",
              "      --bg-color: #3B4455;\n",
              "      --fill-color: #D2E3FC;\n",
              "      --hover-bg-color: #434B5C;\n",
              "      --hover-fill-color: #FFFFFF;\n",
              "      --disabled-bg-color: #3B4455;\n",
              "      --disabled-fill-color: #666;\n",
              "  }\n",
              "\n",
              "  .colab-df-quickchart {\n",
              "    background-color: var(--bg-color);\n",
              "    border: none;\n",
              "    border-radius: 50%;\n",
              "    cursor: pointer;\n",
              "    display: none;\n",
              "    fill: var(--fill-color);\n",
              "    height: 32px;\n",
              "    padding: 0;\n",
              "    width: 32px;\n",
              "  }\n",
              "\n",
              "  .colab-df-quickchart:hover {\n",
              "    background-color: var(--hover-bg-color);\n",
              "    box-shadow: 0 1px 2px rgba(60, 64, 67, 0.3), 0 1px 3px 1px rgba(60, 64, 67, 0.15);\n",
              "    fill: var(--button-hover-fill-color);\n",
              "  }\n",
              "\n",
              "  .colab-df-quickchart-complete:disabled,\n",
              "  .colab-df-quickchart-complete:disabled:hover {\n",
              "    background-color: var(--disabled-bg-color);\n",
              "    fill: var(--disabled-fill-color);\n",
              "    box-shadow: none;\n",
              "  }\n",
              "\n",
              "  .colab-df-spinner {\n",
              "    border: 2px solid var(--fill-color);\n",
              "    border-color: transparent;\n",
              "    border-bottom-color: var(--fill-color);\n",
              "    animation:\n",
              "      spin 1s steps(1) infinite;\n",
              "  }\n",
              "\n",
              "  @keyframes spin {\n",
              "    0% {\n",
              "      border-color: transparent;\n",
              "      border-bottom-color: var(--fill-color);\n",
              "      border-left-color: var(--fill-color);\n",
              "    }\n",
              "    20% {\n",
              "      border-color: transparent;\n",
              "      border-left-color: var(--fill-color);\n",
              "      border-top-color: var(--fill-color);\n",
              "    }\n",
              "    30% {\n",
              "      border-color: transparent;\n",
              "      border-left-color: var(--fill-color);\n",
              "      border-top-color: var(--fill-color);\n",
              "      border-right-color: var(--fill-color);\n",
              "    }\n",
              "    40% {\n",
              "      border-color: transparent;\n",
              "      border-right-color: var(--fill-color);\n",
              "      border-top-color: var(--fill-color);\n",
              "    }\n",
              "    60% {\n",
              "      border-color: transparent;\n",
              "      border-right-color: var(--fill-color);\n",
              "    }\n",
              "    80% {\n",
              "      border-color: transparent;\n",
              "      border-right-color: var(--fill-color);\n",
              "      border-bottom-color: var(--fill-color);\n",
              "    }\n",
              "    90% {\n",
              "      border-color: transparent;\n",
              "      border-bottom-color: var(--fill-color);\n",
              "    }\n",
              "  }\n",
              "</style>\n",
              "\n",
              "  <script>\n",
              "    async function quickchart(key) {\n",
              "      const quickchartButtonEl =\n",
              "        document.querySelector('#' + key + ' button');\n",
              "      quickchartButtonEl.disabled = true;  // To prevent multiple clicks.\n",
              "      quickchartButtonEl.classList.add('colab-df-spinner');\n",
              "      try {\n",
              "        const charts = await google.colab.kernel.invokeFunction(\n",
              "            'suggestCharts', [key], {});\n",
              "      } catch (error) {\n",
              "        console.error('Error during call to suggestCharts:', error);\n",
              "      }\n",
              "      quickchartButtonEl.classList.remove('colab-df-spinner');\n",
              "      quickchartButtonEl.classList.add('colab-df-quickchart-complete');\n",
              "    }\n",
              "    (() => {\n",
              "      let quickchartButtonEl =\n",
              "        document.querySelector('#df-fe55808d-e3d7-42e0-a8b8-040c4e619e72 button');\n",
              "      quickchartButtonEl.style.display =\n",
              "        google.colab.kernel.accessAllowed ? 'block' : 'none';\n",
              "    })();\n",
              "  </script>\n",
              "</div>\n",
              "    </div>\n",
              "  </div>\n"
            ]
          },
          "metadata": {},
          "execution_count": 51
        }
      ],
      "source": [
        "X.head()"
      ]
    },
    {
      "cell_type": "markdown",
      "metadata": {
        "id": "wRoKaVybMgul"
      },
      "source": [
        "### Part 2.D Create our target array _y_ that our model will try to predict"
      ]
    },
    {
      "cell_type": "code",
      "execution_count": null,
      "metadata": {
        "id": "b3oh4e4xMgul"
      },
      "outputs": [],
      "source": [
        "y = df['loan_approved'] # target"
      ]
    },
    {
      "cell_type": "markdown",
      "metadata": {
        "id": "d0FkqNE2Mgul"
      },
      "source": [
        "### Part 2.E Split our data into training, test, and validation sets\n",
        "Run the code below to split the data. Both validation and test sets will be used for testing our model, but use the validation set while you are developing and improving your model, and leave the test for late stage evaluation."
      ]
    },
    {
      "cell_type": "code",
      "execution_count": null,
      "metadata": {
        "colab": {
          "base_uri": "https://localhost:8080/"
        },
        "id": "Le-Ry83PMgul",
        "outputId": "23edd999-7e17-4803-85b2-17b7475e63bb"
      },
      "outputs": [
        {
          "output_type": "stream",
          "name": "stdout",
          "text": [
            "(258496, 9) (55392, 9) (55393, 9)\n"
          ]
        }
      ],
      "source": [
        "from sklearn.model_selection import train_test_split\n",
        "X_train, X_TEMP, y_train, y_TEMP = train_test_split(X, y, test_size=0.30) # split out into training 70% of our data\n",
        "X_validation, X_test, y_validation, y_test = train_test_split(X_TEMP, y_TEMP, test_size=0.50) # split out into validation 15% of our data and test 15% of our data\n",
        "print(X_train.shape, X_validation.shape, X_test.shape) # print data shape to check the sizing is correct"
      ]
    },
    {
      "cell_type": "markdown",
      "metadata": {
        "id": "AM3dtWi7Mgum"
      },
      "source": [
        "### Question 2.E:  Describe the differences between train, test, and validation sets?"
      ]
    },
    {
      "cell_type": "markdown",
      "metadata": {
        "id": "3K3QeJj7Mgum"
      },
      "source": [
        "**Train sets** consists of the largest dataset in the Machine Learning model which is used for traning the model and typically consists of the 70%-80% of the dataset. It consists of the feature dataset and the corresponding labelled dataset.\n",
        "\n",
        "**Test sets** typically consists of the 15%-20% dataset in the Machine Learning model which is used for checking the precision, recall, accuracy, F1 Score of the model and the baises that may occur due to incorrect data or due to data drift.It consists of the feature dataset and the corresponding labelled dataset.\n",
        "\n",
        "**Validation sets** typically consists of the 15%-20% dataset in the Machine Learning model which is used for checking the overfitting/underfitting of the model and tuning the hyperparameters.Several permutations and combination of the model type and hyperparameters are done to come to an optimized Machine learning model for improved performance."
      ]
    },
    {
      "cell_type": "markdown",
      "metadata": {
        "id": "PveNmZuIMgum"
      },
      "source": [
        "## Part 3. Developing Models\n",
        "Scikit-learn has a substantial library of different models we can use for classification. Below are implemented two of the most simple classification models, Logistic Regression and Dummy Classifier."
      ]
    },
    {
      "cell_type": "code",
      "execution_count": null,
      "metadata": {
        "id": "tPLeQwqNMgum"
      },
      "outputs": [],
      "source": [
        "from sklearn.metrics import confusion_matrix\n",
        "from sklearn.metrics import classification_report\n",
        "\n",
        "# helper method to print basic model metrics\n",
        "def metrics(y_true, y_pred):\n",
        "    print('Confusion matrix:\\n', confusion_matrix(y_true, y_pred))\n",
        "    print('\\nReport:\\n', classification_report(y_true, y_pred))"
      ]
    },
    {
      "cell_type": "code",
      "execution_count": null,
      "metadata": {
        "colab": {
          "base_uri": "https://localhost:8080/"
        },
        "id": "n_0fqOkzMgum",
        "outputId": "ccdf209b-454b-4761-a8a3-fcedc19a7f5c"
      },
      "outputs": [
        {
          "output_type": "stream",
          "name": "stdout",
          "text": [
            "Confusion matrix:\n",
            " [[    0  9095]\n",
            " [    0 46297]]\n",
            "\n",
            "Report:\n",
            "               precision    recall  f1-score   support\n",
            "\n",
            "           0       0.00      0.00      0.00      9095\n",
            "           1       0.84      1.00      0.91     46297\n",
            "\n",
            "    accuracy                           0.84     55392\n",
            "   macro avg       0.42      0.50      0.46     55392\n",
            "weighted avg       0.70      0.84      0.76     55392\n",
            "\n"
          ]
        },
        {
          "output_type": "stream",
          "name": "stderr",
          "text": [
            "/usr/local/lib/python3.10/dist-packages/sklearn/metrics/_classification.py:1344: UndefinedMetricWarning: Precision and F-score are ill-defined and being set to 0.0 in labels with no predicted samples. Use `zero_division` parameter to control this behavior.\n",
            "  _warn_prf(average, modifier, msg_start, len(result))\n",
            "/usr/local/lib/python3.10/dist-packages/sklearn/metrics/_classification.py:1344: UndefinedMetricWarning: Precision and F-score are ill-defined and being set to 0.0 in labels with no predicted samples. Use `zero_division` parameter to control this behavior.\n",
            "  _warn_prf(average, modifier, msg_start, len(result))\n",
            "/usr/local/lib/python3.10/dist-packages/sklearn/metrics/_classification.py:1344: UndefinedMetricWarning: Precision and F-score are ill-defined and being set to 0.0 in labels with no predicted samples. Use `zero_division` parameter to control this behavior.\n",
            "  _warn_prf(average, modifier, msg_start, len(result))\n"
          ]
        }
      ],
      "source": [
        "from sklearn.linear_model import LogisticRegression\n",
        "\n",
        "model = LogisticRegression(solver='lbfgs').fit(X_train, y_train) # first fit (train) the model\n",
        "y_pred = model.predict(X_validation) # next get the model's predictions for a sample in the validation set\n",
        "metrics(y_validation, y_pred) # finally evaluate performance"
      ]
    },
    {
      "cell_type": "markdown",
      "metadata": {
        "id": "QZ8Cez5mMgum"
      },
      "source": [
        "The Dummy Classifier is a 'dummy' because it is going to use zero machine learning, and simply predict \"approve this loan\" (value 1) for every loan it sees."
      ]
    },
    {
      "cell_type": "code",
      "execution_count": null,
      "metadata": {
        "colab": {
          "base_uri": "https://localhost:8080/"
        },
        "id": "ssL6pte4Mgun",
        "outputId": "5b227505-ddf2-4587-8bdc-99553da7c3e6"
      },
      "outputs": [
        {
          "output_type": "stream",
          "name": "stdout",
          "text": [
            "Confusion matrix:\n",
            " [[    0  9095]\n",
            " [    0 46297]]\n",
            "\n",
            "Report:\n",
            "               precision    recall  f1-score   support\n",
            "\n",
            "           0       0.00      0.00      0.00      9095\n",
            "           1       0.84      1.00      0.91     46297\n",
            "\n",
            "    accuracy                           0.84     55392\n",
            "   macro avg       0.42      0.50      0.46     55392\n",
            "weighted avg       0.70      0.84      0.76     55392\n",
            "\n"
          ]
        },
        {
          "output_type": "stream",
          "name": "stderr",
          "text": [
            "/usr/local/lib/python3.10/dist-packages/sklearn/metrics/_classification.py:1344: UndefinedMetricWarning: Precision and F-score are ill-defined and being set to 0.0 in labels with no predicted samples. Use `zero_division` parameter to control this behavior.\n",
            "  _warn_prf(average, modifier, msg_start, len(result))\n",
            "/usr/local/lib/python3.10/dist-packages/sklearn/metrics/_classification.py:1344: UndefinedMetricWarning: Precision and F-score are ill-defined and being set to 0.0 in labels with no predicted samples. Use `zero_division` parameter to control this behavior.\n",
            "  _warn_prf(average, modifier, msg_start, len(result))\n",
            "/usr/local/lib/python3.10/dist-packages/sklearn/metrics/_classification.py:1344: UndefinedMetricWarning: Precision and F-score are ill-defined and being set to 0.0 in labels with no predicted samples. Use `zero_division` parameter to control this behavior.\n",
            "  _warn_prf(average, modifier, msg_start, len(result))\n"
          ]
        }
      ],
      "source": [
        "from sklearn.dummy import DummyClassifier\n",
        "\n",
        "approve_everyone = DummyClassifier(strategy='constant', constant = 1).fit(X_train, y_train) # first fit (train) the model\n",
        "y_pred_dummy = approve_everyone.predict(X_validation) # next get the model's predictions for a sample in the validation set\n",
        "metrics(y_validation, y_pred_dummy) # finally evaluate performance"
      ]
    },
    {
      "cell_type": "markdown",
      "metadata": {
        "id": "BOMZKFP5Mgus"
      },
      "source": [
        "### Question 3.A: Considering only the data itself, why do Logistic Regression and the Dummy Classifier perform the same? What is the semantic meaning for why Dummy Classifier has such high accuracy?"
      ]
    },
    {
      "cell_type": "markdown",
      "metadata": {
        "id": "9JKYYXmSMgus"
      },
      "source": [
        "A possible reason for for both Logistic Regression and Dummy Classifier to perform the same could be the imbalanced labeled dataset"
      ]
    },
    {
      "cell_type": "markdown",
      "metadata": {
        "id": "XZUZFy9eMgus"
      },
      "source": [
        "## Part 4: Your turn!\n",
        "\n",
        "### Task 4.A: Create a new balanced dataset where exactly half of the samples are rejected loan applications and half are accepted loan application.\n",
        "_show your work below_"
      ]
    },
    {
      "cell_type": "code",
      "execution_count": null,
      "metadata": {
        "colab": {
          "base_uri": "https://localhost:8080/"
        },
        "id": "fPAv0LBQMgut",
        "outputId": "9390d1fd-637f-41df-85da-50820322c701"
      },
      "outputs": [
        {
          "output_type": "stream",
          "name": "stdout",
          "text": [
            "60380\n"
          ]
        }
      ],
      "source": [
        "y_bal_check = df['loan_approved'] # target\n",
        "\n",
        "zero_approval_rows = df[df['loan_approved'] == 0]\n",
        "num_zero_approvals = len(zero_approval_rows)\n",
        "\n",
        "print(num_zero_approvals)"
      ]
    },
    {
      "cell_type": "code",
      "execution_count": null,
      "metadata": {
        "id": "Od9uhXp2gN_Z"
      },
      "outputs": [],
      "source": [
        "balance_loan_approved = df[df['loan_approved'] == 1].sample(n=60380, random_state=40)\n",
        "\n",
        "balance_loan_disapproved = df[df['loan_approved'] == 0]\n"
      ]
    },
    {
      "cell_type": "code",
      "execution_count": null,
      "metadata": {
        "colab": {
          "base_uri": "https://localhost:8080/"
        },
        "id": "-movEMwHg3uG",
        "outputId": "2763000c-4692-4c0a-9ece-e94a17367594"
      },
      "outputs": [
        {
          "output_type": "stream",
          "name": "stdout",
          "text": [
            "(120760, 27)\n"
          ]
        }
      ],
      "source": [
        "balanced_df = pd.concat([balance_loan_approved.sample(n=60380, random_state=40),\n",
        "                         balance_loan_disapproved.sample(n=60380, random_state=40)])\n",
        "\n",
        "balanced_df = balanced_df.sample(frac=1, random_state=42).reset_index(drop=True)\n",
        "\n",
        "print(balanced_df.shape)"
      ]
    },
    {
      "cell_type": "code",
      "execution_count": null,
      "metadata": {
        "id": "jBFtNL_Lhx3d"
      },
      "outputs": [],
      "source": [
        "\n",
        "features_cat = ['loan_purpose_name', 'applicant_sex_name']\n",
        "features_num = ['loan_amount_000s', 'applicant_income_000s']\n",
        "\n",
        "X_cat_bal = balanced_df[features_cat]\n",
        "X_num_bal = balanced_df[features_num]"
      ]
    },
    {
      "cell_type": "code",
      "execution_count": null,
      "metadata": {
        "colab": {
          "base_uri": "https://localhost:8080/"
        },
        "id": "ksn5DvDmkV0E",
        "outputId": "26975a7b-5ae1-4bd9-e869-c6c6bcf92357"
      },
      "outputs": [
        {
          "output_type": "stream",
          "name": "stdout",
          "text": [
            "(120760, 7)\n"
          ]
        }
      ],
      "source": [
        "enc_bal = preprocessing.OneHotEncoder()\n",
        "enc_bal.fit(X_cat_bal) # fit the encoder to categories in our data\n",
        "one_hot_bal = enc.transform(X_cat_bal) # transform data into one hot encoded sparse array format\n",
        "\n",
        "\n",
        "print(one_hot_bal.shape)"
      ]
    },
    {
      "cell_type": "code",
      "execution_count": null,
      "metadata": {
        "colab": {
          "base_uri": "https://localhost:8080/"
        },
        "id": "NwxK7etqkkBC",
        "outputId": "905e81e7-41d0-411d-915b-5128c720d606"
      },
      "outputs": [
        {
          "output_type": "stream",
          "name": "stdout",
          "text": [
            "(120760, 7)\n"
          ]
        }
      ],
      "source": [
        "# Finally, put the newly encoded sparse array back into a pandas dataframe so that we can use it\n",
        "X_cat_proc_bal = pd.DataFrame(one_hot_bal.toarray(), columns=enc.get_feature_names_out())\n",
        "X_cat_proc_bal.head()\n",
        "\n",
        "print(X_cat_proc_bal.shape)"
      ]
    },
    {
      "cell_type": "code",
      "execution_count": null,
      "metadata": {
        "colab": {
          "base_uri": "https://localhost:8080/"
        },
        "id": "VsiVq9Vgx0WN",
        "outputId": "380685b4-f03a-440d-b92b-19e795a251f3"
      },
      "outputs": [
        {
          "output_type": "stream",
          "name": "stdout",
          "text": [
            "(120760, 2)\n"
          ]
        }
      ],
      "source": [
        "scaled_bal = preprocessing.scale(X_num_bal)\n",
        "X_num_proc_bal = pd.DataFrame(scaled_bal, columns=features_num)\n",
        "X_num_proc_bal.head()\n",
        "\n",
        "print(X_num_proc_bal.shape)"
      ]
    },
    {
      "cell_type": "code",
      "execution_count": null,
      "metadata": {
        "colab": {
          "base_uri": "https://localhost:8080/"
        },
        "id": "QvBtor1_xs7G",
        "outputId": "74a5a00c-b441-4ba9-c39e-6b3a155e58be"
      },
      "outputs": [
        {
          "output_type": "stream",
          "name": "stdout",
          "text": [
            "(120760, 9)\n"
          ]
        }
      ],
      "source": [
        "X_bal = pd.concat([X_num_proc_bal, X_cat_proc_bal], axis=1, sort=False)\n",
        "X_bal.head()\n",
        "\n",
        "print(X_bal.shape)"
      ]
    },
    {
      "cell_type": "code",
      "execution_count": null,
      "metadata": {
        "id": "P7nGqNd81mf7"
      },
      "outputs": [],
      "source": [
        "X_bal = X_bal.fillna(0)"
      ]
    },
    {
      "cell_type": "markdown",
      "metadata": {
        "id": "ICJKg6zuMguv"
      },
      "source": [
        "### Task 4.B: Below, retry training and evaluating a Logistic regression model on the updated data.\n",
        "_show your work below_"
      ]
    },
    {
      "cell_type": "code",
      "execution_count": null,
      "metadata": {
        "colab": {
          "base_uri": "https://localhost:8080/"
        },
        "id": "MsI0dHaSMguw",
        "outputId": "83133d24-63e1-43dd-9852-a9c4ce279971"
      },
      "outputs": [
        {
          "output_type": "stream",
          "name": "stdout",
          "text": [
            "(120760,)\n"
          ]
        }
      ],
      "source": [
        "y_balanced = balanced_df['loan_approved'] # target\n",
        "\n",
        "y_balanced.head()\n",
        "\n",
        "print(y_balanced.shape)"
      ]
    },
    {
      "cell_type": "code",
      "execution_count": null,
      "metadata": {
        "colab": {
          "base_uri": "https://localhost:8080/"
        },
        "id": "oxaRyd_8hZFW",
        "outputId": "c4641d4d-97be-4b34-cf1c-d84677865045"
      },
      "outputs": [
        {
          "output_type": "stream",
          "name": "stdout",
          "text": [
            "(84532, 9) (18114, 9) (18114, 9)\n"
          ]
        }
      ],
      "source": [
        "X_train_bal, X_TEMP_bal, y_train_bal, y_TEMP_bal = train_test_split(X_bal, y_balanced, test_size=0.30) # split out into training 70% of our data\n",
        "\n",
        "X_validation_bal, X_test_bal, y_validation_bal, y_test_bal = train_test_split(X_TEMP_bal, y_TEMP_bal, test_size=0.50) # split out into validation 15% of our data and test 15% of our data\n",
        "\n",
        "print(X_train_bal.shape, X_validation_bal.shape, X_test_bal.shape) # print data shape to check the sizing is correct"
      ]
    },
    {
      "cell_type": "markdown",
      "metadata": {
        "id": "OV2Sb-xhMguw"
      },
      "source": [
        "### Task 4.C: Use your own imagination and experimentation to improve predictive performance for this task, modifying the model choices, feature choices, and data processing however you wish.\n",
        "_Important! Your ability to improve the model above the baseline after Task 4.B will count for 10% of this assignment grade, with 5% of that given for modest improvements to performance. Thus while we encourage you to experiment, do not sink excessive time into this task. We will test the performance on our own holdout dataset._\n",
        "\n",
        "_show your work below_"
      ]
    },
    {
      "cell_type": "markdown",
      "source": [
        "Logistic Regression Over Balanced Dataset : 66% accuracy"
      ],
      "metadata": {
        "id": "zNveUwM33IEG"
      }
    },
    {
      "cell_type": "code",
      "execution_count": null,
      "metadata": {
        "colab": {
          "base_uri": "https://localhost:8080/"
        },
        "id": "67Sn7TRHMguw",
        "outputId": "94f93d77-ab88-420a-e128-52beec2a001a"
      },
      "outputs": [
        {
          "output_type": "stream",
          "name": "stdout",
          "text": [
            "Confusion matrix:\n",
            " [[7099 1908]\n",
            " [4283 4824]]\n",
            "\n",
            "Report:\n",
            "               precision    recall  f1-score   support\n",
            "\n",
            "           0       0.62      0.79      0.70      9007\n",
            "           1       0.72      0.53      0.61      9107\n",
            "\n",
            "    accuracy                           0.66     18114\n",
            "   macro avg       0.67      0.66      0.65     18114\n",
            "weighted avg       0.67      0.66      0.65     18114\n",
            "\n"
          ]
        }
      ],
      "source": [
        "model_bal = LogisticRegression(solver='lbfgs').fit(X_train_bal, y_train_bal) # first fit (train) the model\n",
        "\n",
        "y_pred_bal = model_bal.predict(X_validation_bal) # next get the model's predictions for a sample in the validation set\n",
        "\n",
        "metrics(y_validation_bal, y_pred_bal) # finally evaluate performance"
      ]
    },
    {
      "cell_type": "markdown",
      "source": [
        "Hyperparameter tuning over Logistic Regression : No change in accuracy"
      ],
      "metadata": {
        "id": "h1KbcG703K-T"
      }
    },
    {
      "cell_type": "code",
      "execution_count": null,
      "metadata": {
        "colab": {
          "base_uri": "https://localhost:8080/"
        },
        "id": "33Wq3uSTszct",
        "outputId": "f3d7710a-2c59-4fb0-bc9f-2228a3c7bfa8"
      },
      "outputs": [
        {
          "output_type": "stream",
          "name": "stdout",
          "text": [
            "Confusion matrix:\n",
            " [[7099 1908]\n",
            " [4283 4824]]\n",
            "\n",
            "Report:\n",
            "               precision    recall  f1-score   support\n",
            "\n",
            "           0       0.62      0.79      0.70      9007\n",
            "           1       0.72      0.53      0.61      9107\n",
            "\n",
            "    accuracy                           0.66     18114\n",
            "   macro avg       0.67      0.66      0.65     18114\n",
            "weighted avg       0.67      0.66      0.65     18114\n",
            "\n"
          ]
        }
      ],
      "source": [
        "model_bal_2 = LogisticRegression(solver='lbfgs', max_iter=5000, C=4).fit(X_train_bal, y_train_bal) # first fit (train) the model\n",
        "\n",
        "y_pred_bal_2 = model_bal_2.predict(X_validation_bal) # next get the model's predictions for a sample in the validation set\n",
        "\n",
        "metrics(y_validation_bal, y_pred_bal_2) # finally evaluate performance"
      ]
    },
    {
      "cell_type": "markdown",
      "source": [
        "Random Forest Classifier : Accuracy decreased by 3%"
      ],
      "metadata": {
        "id": "ia9XjuYx8Sgc"
      }
    },
    {
      "cell_type": "code",
      "source": [
        "from sklearn.ensemble import RandomForestClassifier\n",
        "from sklearn.metrics import classification_report, accuracy_score, confusion_matrix\n",
        "\n",
        "# Create a Random Forest Classifier with your desired hyperparameters\n",
        "model_rf_bal_2 = RandomForestClassifier(n_estimators=200, random_state=42)\n",
        "\n",
        "# Fit (train) the model on the balanced training data\n",
        "model_rf_bal_2.fit(X_train_bal, y_train_bal)\n",
        "\n",
        "# Get the model's predictions for a sample in the validation set\n",
        "y_pred_rf_bal_2 = model_rf_bal_2.predict(X_validation_bal)\n",
        "\n",
        "# Evaluate performance\n",
        "def metrics(y_true, y_pred):\n",
        "    print(\"Accuracy:\", accuracy_score(y_true, y_pred))\n",
        "    print(\"\\nClassification Report:\\n\", classification_report(y_true, y_pred))\n",
        "    print(\"\\nConfusion Matrix:\\n\", confusion_matrix(y_true, y_pred))\n",
        "\n",
        "metrics(y_validation_bal, y_pred_rf_bal_2)"
      ],
      "metadata": {
        "colab": {
          "base_uri": "https://localhost:8080/"
        },
        "id": "t_sdgwS6TgXz",
        "outputId": "324c2d95-6c2b-4e9c-8937-81bb03801ab4"
      },
      "execution_count": null,
      "outputs": [
        {
          "output_type": "stream",
          "name": "stdout",
          "text": [
            "Accuracy: 0.6316661146074859\n",
            "\n",
            "Classification Report:\n",
            "               precision    recall  f1-score   support\n",
            "\n",
            "           0       0.63      0.63      0.63      9007\n",
            "           1       0.63      0.63      0.63      9107\n",
            "\n",
            "    accuracy                           0.63     18114\n",
            "   macro avg       0.63      0.63      0.63     18114\n",
            "weighted avg       0.63      0.63      0.63     18114\n",
            "\n",
            "\n",
            "Confusion Matrix:\n",
            " [[5696 3311]\n",
            " [3361 5746]]\n"
          ]
        }
      ]
    },
    {
      "cell_type": "markdown",
      "source": [
        "XGBoost Classifier : Was able to imporve accuracy by 3% after six hyperparameter tuning attempts"
      ],
      "metadata": {
        "id": "9T57_6DF8Wed"
      }
    },
    {
      "cell_type": "code",
      "source": [
        "import xgboost as xgb\n",
        "from sklearn.metrics import classification_report, confusion_matrix\n",
        "\n",
        "# Initialize and train the XGBoost model\n",
        "model_xgb = xgb.XGBClassifier(n_estimators=50, learning_rate=0.3, max_depth=5, random_state=2)\n",
        "model_xgb.fit(X_train_bal, y_train_bal)\n",
        "\n",
        "# Predict on the validation set\n",
        "y_pred_xgb = model_xgb.predict(X_validation_bal)\n",
        "\n",
        "# Evaluate the performance of the XGBoost model\n",
        "print(\"Confusion Matrix:\")\n",
        "print(confusion_matrix(y_validation_bal, y_pred_xgb))\n",
        "\n",
        "print(\"\\nClassification Report:\")\n",
        "print(classification_report(y_validation_bal, y_pred_xgb))"
      ],
      "metadata": {
        "colab": {
          "base_uri": "https://localhost:8080/"
        },
        "id": "cAoEuwWhUTsg",
        "outputId": "e850f031-a2a4-4a95-9620-87dd7f4b5022"
      },
      "execution_count": null,
      "outputs": [
        {
          "output_type": "stream",
          "name": "stdout",
          "text": [
            "Confusion Matrix:\n",
            "[[6388 2619]\n",
            " [3021 6086]]\n",
            "\n",
            "Classification Report:\n",
            "              precision    recall  f1-score   support\n",
            "\n",
            "           0       0.68      0.71      0.69      9007\n",
            "           1       0.70      0.67      0.68      9107\n",
            "\n",
            "    accuracy                           0.69     18114\n",
            "   macro avg       0.69      0.69      0.69     18114\n",
            "weighted avg       0.69      0.69      0.69     18114\n",
            "\n"
          ]
        }
      ]
    },
    {
      "cell_type": "markdown",
      "source": [
        "Analysing the features of influence : Did not do anything further to avoid overfitting"
      ],
      "metadata": {
        "id": "PIBYcJp88aCm"
      }
    },
    {
      "cell_type": "code",
      "source": [
        "import matplotlib.pyplot as plt\n",
        "\n",
        "#Get feature importances\n",
        "feature_importances = model_xgb.feature_importances_\n",
        "\n",
        "# Get the names of the features\n",
        "feature_names = X_train_bal.columns\n",
        "\n",
        "# Create a DataFrame to hold feature names and their importances\n",
        "feature_importance_df = pd.DataFrame({\n",
        "    'Feature': feature_names,\n",
        "    'Importance': feature_importances\n",
        "})\n",
        "\n",
        "# Sort the features by importance in descending order\n",
        "feature_importance_df = feature_importance_df.sort_values(by='Importance', ascending=False)\n",
        "\n",
        "# Plot feature importances\n",
        "plt.figure(figsize=(10, 6))\n",
        "plt.barh(feature_importance_df['Feature'], feature_importance_df['Importance'])\n",
        "plt.xlabel('Feature Importance')\n",
        "plt.ylabel('Feature')\n",
        "plt.title('Feature Importance Plot')\n",
        "plt.gca().invert_yaxis()  # Invert the y-axis to show the most important features at the top\n",
        "plt.show()"
      ],
      "metadata": {
        "colab": {
          "base_uri": "https://localhost:8080/",
          "height": 413
        },
        "id": "1Fc6rZtqowks",
        "outputId": "fd8ef7aa-c5d6-44ce-a9be-826880fcfb02"
      },
      "execution_count": null,
      "outputs": [
        {
          "output_type": "display_data",
          "data": {
            "text/plain": [
              "<Figure size 1000x600 with 1 Axes>"
            ],
            "image/png": "[encoded data removed]"
          },
          "metadata": {}
        }
      ]
    },
    {
      "cell_type": "markdown",
      "metadata": {
        "id": "tUjAlf_4Mguw"
      },
      "source": [
        "# Documenting collaborations\n",
        "## Briefly list and describe the sources you received help from, and how they helped you\n",
        "### These may include friends, peers, TAs, generative AI tools, etc."
      ]
    },
    {
      "cell_type": "markdown",
      "metadata": {
        "id": "FMMc4SVKMguw"
      },
      "source": [
        "I used genrative AI tools with prompts such as:\n",
        "\n",
        "\n",
        "\n",
        "\n",
        "*   get count of columns in dataframe\n",
        "*   get count of rows in dataframe\n",
        "*   unique data in a column of df\n",
        "*   append 3 lists\n",
        "*   y_bal_check = df['loan_approved']  find the number of rows where loan_approved is zero\n",
        "*   zero_approval_rows = df[df['loan_approved'] == 1]\n",
        "num_zero_approvals = len(zero_approval_rows)\n",
        "*   pick random 60380 rows from df where where loan_approved is 1\n",
        "*   balance_loan_approved = df[df['loan_approved'] == 1].sample(n=60380, random_state=40)\n",
        "*   balance_loan_disapproved = df[df['loan_approved'] == 0]\n",
        "*   make balance_loan_approved and balance_loan_disapproved  a combined dataframe with balanced distribution of the two types\n",
        "\n",
        "I also discussed and cross-verified with my peers on the methods of selecting a balanced dataset"
      ]
    },
    {
      "cell_type": "markdown",
      "metadata": {
        "id": "_Ju-RqT1Mguw"
      },
      "source": [
        "# Learning assessment\n",
        "\n",
        "### Reflect in a few words the amount of new content learned from completing the assignment.\n",
        "### If most of the material was not new to you, where did you see it before?"
      ]
    },
    {
      "cell_type": "markdown",
      "metadata": {
        "id": "Og8YVWITMgux"
      },
      "source": [
        "The assignment acted as a refresher for basic python (pandas, scikit-learn) syntax.\n",
        "\n",
        "I learned the importance of having a balanced dataset and trying different classification models. I learnt the hands on challenges that data scientist face while tuning hyperparameters\n",
        "\n",
        "Also learnt that SVM Classifiers take too long to execute. Hence, deleted from the collab book as it was not increasing the accuracy"
      ]
    },
    {
      "cell_type": "markdown",
      "metadata": {
        "id": "vZNSBG5xMgux"
      },
      "source": []
    }
  ],
  "metadata": {
    "colab": {
      "provenance": [],
      "include_colab_link": true
    },
    "kernelspec": {
      "display_name": "Python 3",
      "language": "python",
      "name": "python3"
    },
    "language_info": {
      "codemirror_mode": {
        "name": "ipython",
        "version": 3
      },
      "file_extension": ".py",
      "mimetype": "text/x-python",
      "name": "python",
      "nbconvert_exporter": "python",
      "pygments_lexer": "ipython3",
      "version": "3.9.6"
    },
    "toc": {
      "base_numbering": 1,
      "nav_menu": {},
      "number_sections": false,
      "sideBar": false,
      "skip_h1_title": false,
      "title_cell": "Table of Contents",
      "title_sidebar": "Contents",
      "toc_cell": false,
      "toc_position": {},
      "toc_section_display": false,
      "toc_window_display": false
    }
  },
  "nbformat": 4,
  "nbformat_minor": 0
}